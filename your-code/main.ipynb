{
 "cells": [
  {
   "cell_type": "markdown",
   "metadata": {
    "toc": true
   },
   "source": [
    "<h1>Table of Contents<span class=\"tocSkip\"></span></h1>\n",
    "<div class=\"toc\"><ul class=\"toc-item\"><li><span><a href=\"#Before-your-start:\" data-toc-modified-id=\"Before-your-start:-1\"><span class=\"toc-item-num\">1&nbsp;&nbsp;</span>Before your start:</a></span></li><li><span><a href=\"#Challenge-1---Index-Functions\" data-toc-modified-id=\"Challenge-1---Index-Functions-2\"><span class=\"toc-item-num\">2&nbsp;&nbsp;</span>Challenge 1 - Index Functions</a></span></li><li><span><a href=\"#Challenge-2---Advanced-Functions\" data-toc-modified-id=\"Challenge-2---Advanced-Functions-3\"><span class=\"toc-item-num\">3&nbsp;&nbsp;</span>Challenge 2 - Advanced Functions</a></span></li><li><span><a href=\"#Challenge-3---Method-Chaining\" data-toc-modified-id=\"Challenge-3---Method-Chaining-4\"><span class=\"toc-item-num\">4&nbsp;&nbsp;</span>Challenge 3 - Method Chaining</a></span></li></ul></div>"
   ]
  },
  {
   "cell_type": "markdown",
   "metadata": {},
   "source": [
    "# Before your start:\n",
    "- Read the README.md file\n",
    "- Comment as much as you can and use the resources (README.md file)\n",
    "- Happy learning!"
   ]
  },
  {
   "cell_type": "code",
   "execution_count": 1,
   "metadata": {},
   "outputs": [],
   "source": [
    "# import numpy and pandas\n",
    "import pandas as pd\n",
    "\n",
    "import numpy as np\n",
    "\n",
    "import regex as re\n"
   ]
  },
  {
   "cell_type": "markdown",
   "metadata": {},
   "source": [
    "# Challenge 1 - Index Functions\n",
    "\n",
    "In this challenge, we will practice the advanced functions introduced in the lesson. However, before we start, we will load and evaluate our dataset."
   ]
  },
  {
   "cell_type": "code",
   "execution_count": 2,
   "metadata": {},
   "outputs": [],
   "source": [
    "# Run this code:\n",
    "\n",
    "admissions = pd.read_csv('../Admission_Predict.csv')\n",
    "#to remove trailing spaces at the end of the column names\n",
    "admissions.columns = admissions.columns.str.rstrip()"
   ]
  },
  {
   "cell_type": "markdown",
   "metadata": {},
   "source": [
    "Let's evaluate the dataset by looking at the `head` function."
   ]
  },
  {
   "cell_type": "code",
   "execution_count": 3,
   "metadata": {},
   "outputs": [
    {
     "output_type": "execute_result",
     "data": {
      "text/plain": [
       "   Serial No.  GRE Score  TOEFL Score  University Rating  SOP  LOR  CGPA  \\\n",
       "0           1        337          118                  4  4.5  4.5  9.65   \n",
       "1           2        316          104                  3  3.0  3.5  8.00   \n",
       "2           3        322          110                  3  3.5  2.5  8.67   \n",
       "3           4        314          103                  2  2.0  3.0  8.21   \n",
       "4           5        330          115                  5  4.5  3.0  9.34   \n",
       "\n",
       "   Research  Chance of Admit  \n",
       "0         1             0.92  \n",
       "1         1             0.72  \n",
       "2         1             0.80  \n",
       "3         0             0.65  \n",
       "4         1             0.90  "
      ],
      "text/html": "<div>\n<style scoped>\n    .dataframe tbody tr th:only-of-type {\n        vertical-align: middle;\n    }\n\n    .dataframe tbody tr th {\n        vertical-align: top;\n    }\n\n    .dataframe thead th {\n        text-align: right;\n    }\n</style>\n<table border=\"1\" class=\"dataframe\">\n  <thead>\n    <tr style=\"text-align: right;\">\n      <th></th>\n      <th>Serial No.</th>\n      <th>GRE Score</th>\n      <th>TOEFL Score</th>\n      <th>University Rating</th>\n      <th>SOP</th>\n      <th>LOR</th>\n      <th>CGPA</th>\n      <th>Research</th>\n      <th>Chance of Admit</th>\n    </tr>\n  </thead>\n  <tbody>\n    <tr>\n      <th>0</th>\n      <td>1</td>\n      <td>337</td>\n      <td>118</td>\n      <td>4</td>\n      <td>4.5</td>\n      <td>4.5</td>\n      <td>9.65</td>\n      <td>1</td>\n      <td>0.92</td>\n    </tr>\n    <tr>\n      <th>1</th>\n      <td>2</td>\n      <td>316</td>\n      <td>104</td>\n      <td>3</td>\n      <td>3.0</td>\n      <td>3.5</td>\n      <td>8.00</td>\n      <td>1</td>\n      <td>0.72</td>\n    </tr>\n    <tr>\n      <th>2</th>\n      <td>3</td>\n      <td>322</td>\n      <td>110</td>\n      <td>3</td>\n      <td>3.5</td>\n      <td>2.5</td>\n      <td>8.67</td>\n      <td>1</td>\n      <td>0.80</td>\n    </tr>\n    <tr>\n      <th>3</th>\n      <td>4</td>\n      <td>314</td>\n      <td>103</td>\n      <td>2</td>\n      <td>2.0</td>\n      <td>3.0</td>\n      <td>8.21</td>\n      <td>0</td>\n      <td>0.65</td>\n    </tr>\n    <tr>\n      <th>4</th>\n      <td>5</td>\n      <td>330</td>\n      <td>115</td>\n      <td>5</td>\n      <td>4.5</td>\n      <td>3.0</td>\n      <td>9.34</td>\n      <td>1</td>\n      <td>0.90</td>\n    </tr>\n  </tbody>\n</table>\n</div>"
     },
     "metadata": {},
     "execution_count": 3
    }
   ],
   "source": [
    "# Your code here:\n",
    "\n",
    "admissions.head()\n"
   ]
  },
  {
   "cell_type": "markdown",
   "metadata": {},
   "source": [
    "Before beginning to work with this dataset and evaluating graduate admissions data, we will verify that there is no missing data in the dataset. Do this in the cell below."
   ]
  },
  {
   "cell_type": "code",
   "execution_count": 5,
   "metadata": {},
   "outputs": [
    {
     "output_type": "stream",
     "name": "stdout",
     "text": [
      "<class 'pandas.core.frame.DataFrame'>\nRangeIndex: 385 entries, 0 to 384\nData columns (total 9 columns):\n #   Column             Non-Null Count  Dtype  \n---  ------             --------------  -----  \n 0   Serial No.         385 non-null    int64  \n 1   GRE Score          385 non-null    int64  \n 2   TOEFL Score        385 non-null    int64  \n 3   University Rating  385 non-null    int64  \n 4   SOP                385 non-null    float64\n 5   LOR                385 non-null    float64\n 6   CGPA               385 non-null    float64\n 7   Research           385 non-null    int64  \n 8   Chance of Admit    385 non-null    float64\ndtypes: float64(4), int64(5)\nmemory usage: 27.2 KB\n"
     ]
    }
   ],
   "source": [
    "# Your code here:\n",
    "# We can see that there is no missing data in the data set\n",
    "\n",
    "admissions.info()\n"
   ]
  },
  {
   "cell_type": "markdown",
   "metadata": {},
   "source": [
    "Interestingly, there is a column that uniquely identifies the applicants. This column is the serial number column. Instead of having our own index, we should make this column our index. Do this in the cell below. Keep the column in the dataframe in addition to making it an index."
   ]
  },
  {
   "cell_type": "code",
   "execution_count": 9,
   "metadata": {},
   "outputs": [],
   "source": [
    "# Your code here:\n",
    "\n",
    "admissions.set_index(\"Serial No.\", drop = False, inplace=True)\n"
   ]
  },
  {
   "cell_type": "markdown",
   "metadata": {},
   "source": [
    "Turns out that `GRE Score` and `CGPA` also uniquely identify the data. Show this in the cell below."
   ]
  },
  {
   "cell_type": "code",
   "execution_count": 15,
   "metadata": {},
   "outputs": [
    {
     "output_type": "execute_result",
     "data": {
      "text/plain": [
       "GRE Score  CGPA\n",
       "340        9.92    1\n",
       "317        8.50    1\n",
       "311        8.48    1\n",
       "           8.64    1\n",
       "           9.00    1\n",
       "                  ..\n",
       "323        8.60    1\n",
       "           8.74    1\n",
       "           8.78    1\n",
       "           8.88    1\n",
       "290        7.46    1\n",
       "Length: 385, dtype: int64"
      ]
     },
     "metadata": {},
     "execution_count": 15
    }
   ],
   "source": [
    "# Your code here:\n",
    "\n",
    "# We can see that there are 385 unique combinations of the 2 variables\n",
    "\n",
    "admissions[[\"GRE Score\", \"CGPA\"]].value_counts()\n"
   ]
  },
  {
   "cell_type": "markdown",
   "metadata": {},
   "source": [
    "Replace the index with an index comprised of two columns - `GRE Score` and `CGPA`. Remove the columns from the dataset as well. Make sure to use `inplace=True`."
   ]
  },
  {
   "cell_type": "markdown",
   "metadata": {},
   "source": [
    "Now change the index back to a sequence starting at zero using the `reset_index` function. Make sure to use `inplace=True`."
   ]
  },
  {
   "cell_type": "code",
   "execution_count": 17,
   "metadata": {},
   "outputs": [
    {
     "output_type": "error",
     "ename": "KeyError",
     "evalue": "\"None of ['GRE Score', 'CGPA'] are in the columns\"",
     "traceback": [
      "\u001b[0;31m---------------------------------------------------------------------------\u001b[0m",
      "\u001b[0;31mKeyError\u001b[0m                                  Traceback (most recent call last)",
      "\u001b[0;32m<ipython-input-17-1da7bf638ba6>\u001b[0m in \u001b[0;36m<module>\u001b[0;34m\u001b[0m\n\u001b[1;32m      1\u001b[0m \u001b[0;31m# Your code here:\u001b[0m\u001b[0;34m\u001b[0m\u001b[0;34m\u001b[0m\u001b[0;34m\u001b[0m\u001b[0m\n\u001b[1;32m      2\u001b[0m \u001b[0;34m\u001b[0m\u001b[0m\n\u001b[0;32m----> 3\u001b[0;31m \u001b[0madmissions\u001b[0m\u001b[0;34m.\u001b[0m\u001b[0mset_index\u001b[0m\u001b[0;34m(\u001b[0m\u001b[0;34m[\u001b[0m\u001b[0;34m\"GRE Score\"\u001b[0m\u001b[0;34m,\u001b[0m \u001b[0;34m\"CGPA\"\u001b[0m\u001b[0;34m]\u001b[0m\u001b[0;34m,\u001b[0m \u001b[0minplace\u001b[0m\u001b[0;34m=\u001b[0m \u001b[0;32mTrue\u001b[0m\u001b[0;34m)\u001b[0m\u001b[0;34m\u001b[0m\u001b[0;34m\u001b[0m\u001b[0m\n\u001b[0m\u001b[1;32m      4\u001b[0m \u001b[0;34m\u001b[0m\u001b[0m\n\u001b[1;32m      5\u001b[0m \u001b[0madmissions\u001b[0m\u001b[0;34m\u001b[0m\u001b[0;34m\u001b[0m\u001b[0m\n",
      "\u001b[0;32m~/opt/anaconda3/lib/python3.8/site-packages/pandas/core/frame.py\u001b[0m in \u001b[0;36mset_index\u001b[0;34m(self, keys, drop, append, inplace, verify_integrity)\u001b[0m\n\u001b[1;32m   4549\u001b[0m \u001b[0;34m\u001b[0m\u001b[0m\n\u001b[1;32m   4550\u001b[0m         \u001b[0;32mif\u001b[0m \u001b[0mmissing\u001b[0m\u001b[0;34m:\u001b[0m\u001b[0;34m\u001b[0m\u001b[0;34m\u001b[0m\u001b[0m\n\u001b[0;32m-> 4551\u001b[0;31m             \u001b[0;32mraise\u001b[0m \u001b[0mKeyError\u001b[0m\u001b[0;34m(\u001b[0m\u001b[0;34mf\"None of {missing} are in the columns\"\u001b[0m\u001b[0;34m)\u001b[0m\u001b[0;34m\u001b[0m\u001b[0;34m\u001b[0m\u001b[0m\n\u001b[0m\u001b[1;32m   4552\u001b[0m \u001b[0;34m\u001b[0m\u001b[0m\n\u001b[1;32m   4553\u001b[0m         \u001b[0;32mif\u001b[0m \u001b[0minplace\u001b[0m\u001b[0;34m:\u001b[0m\u001b[0;34m\u001b[0m\u001b[0;34m\u001b[0m\u001b[0m\n",
      "\u001b[0;31mKeyError\u001b[0m: \"None of ['GRE Score', 'CGPA'] are in the columns\""
     ]
    }
   ],
   "source": [
    "# Your code here:\n",
    "\n",
    "admissions.set_index([\"GRE Score\", \"CGPA\"], inplace= True)"
   ]
  },
  {
   "cell_type": "code",
   "execution_count": 19,
   "metadata": {},
   "outputs": [
    {
     "output_type": "execute_result",
     "data": {
      "text/plain": [
       "                Serial No.  TOEFL Score  University Rating  SOP  LOR  \\\n",
       "GRE Score CGPA                                                         \n",
       "337       9.65           1          118                  4  4.5  4.5   \n",
       "316       8.00           2          104                  3  3.0  3.5   \n",
       "322       8.67           3          110                  3  3.5  2.5   \n",
       "314       8.21           4          103                  2  2.0  3.0   \n",
       "330       9.34           5          115                  5  4.5  3.0   \n",
       "...                    ...          ...                ...  ...  ...   \n",
       "324       9.04         381          110                  3  3.5  3.5   \n",
       "325       9.11         382          107                  3  3.0  3.5   \n",
       "330       9.45         383          116                  4  5.0  4.5   \n",
       "312       8.78         384          103                  3  3.5  4.0   \n",
       "333       9.66         385          117                  4  5.0  4.0   \n",
       "\n",
       "                Research  Chance of Admit  \n",
       "GRE Score CGPA                             \n",
       "337       9.65         1             0.92  \n",
       "316       8.00         1             0.72  \n",
       "322       8.67         1             0.80  \n",
       "314       8.21         0             0.65  \n",
       "330       9.34         1             0.90  \n",
       "...                  ...              ...  \n",
       "324       9.04         1             0.82  \n",
       "325       9.11         1             0.84  \n",
       "330       9.45         1             0.91  \n",
       "312       8.78         0             0.67  \n",
       "333       9.66         1             0.95  \n",
       "\n",
       "[385 rows x 7 columns]"
      ],
      "text/html": "<div>\n<style scoped>\n    .dataframe tbody tr th:only-of-type {\n        vertical-align: middle;\n    }\n\n    .dataframe tbody tr th {\n        vertical-align: top;\n    }\n\n    .dataframe thead th {\n        text-align: right;\n    }\n</style>\n<table border=\"1\" class=\"dataframe\">\n  <thead>\n    <tr style=\"text-align: right;\">\n      <th></th>\n      <th></th>\n      <th>Serial No.</th>\n      <th>TOEFL Score</th>\n      <th>University Rating</th>\n      <th>SOP</th>\n      <th>LOR</th>\n      <th>Research</th>\n      <th>Chance of Admit</th>\n    </tr>\n    <tr>\n      <th>GRE Score</th>\n      <th>CGPA</th>\n      <th></th>\n      <th></th>\n      <th></th>\n      <th></th>\n      <th></th>\n      <th></th>\n      <th></th>\n    </tr>\n  </thead>\n  <tbody>\n    <tr>\n      <th>337</th>\n      <th>9.65</th>\n      <td>1</td>\n      <td>118</td>\n      <td>4</td>\n      <td>4.5</td>\n      <td>4.5</td>\n      <td>1</td>\n      <td>0.92</td>\n    </tr>\n    <tr>\n      <th>316</th>\n      <th>8.00</th>\n      <td>2</td>\n      <td>104</td>\n      <td>3</td>\n      <td>3.0</td>\n      <td>3.5</td>\n      <td>1</td>\n      <td>0.72</td>\n    </tr>\n    <tr>\n      <th>322</th>\n      <th>8.67</th>\n      <td>3</td>\n      <td>110</td>\n      <td>3</td>\n      <td>3.5</td>\n      <td>2.5</td>\n      <td>1</td>\n      <td>0.80</td>\n    </tr>\n    <tr>\n      <th>314</th>\n      <th>8.21</th>\n      <td>4</td>\n      <td>103</td>\n      <td>2</td>\n      <td>2.0</td>\n      <td>3.0</td>\n      <td>0</td>\n      <td>0.65</td>\n    </tr>\n    <tr>\n      <th>330</th>\n      <th>9.34</th>\n      <td>5</td>\n      <td>115</td>\n      <td>5</td>\n      <td>4.5</td>\n      <td>3.0</td>\n      <td>1</td>\n      <td>0.90</td>\n    </tr>\n    <tr>\n      <th>...</th>\n      <th>...</th>\n      <td>...</td>\n      <td>...</td>\n      <td>...</td>\n      <td>...</td>\n      <td>...</td>\n      <td>...</td>\n      <td>...</td>\n    </tr>\n    <tr>\n      <th>324</th>\n      <th>9.04</th>\n      <td>381</td>\n      <td>110</td>\n      <td>3</td>\n      <td>3.5</td>\n      <td>3.5</td>\n      <td>1</td>\n      <td>0.82</td>\n    </tr>\n    <tr>\n      <th>325</th>\n      <th>9.11</th>\n      <td>382</td>\n      <td>107</td>\n      <td>3</td>\n      <td>3.0</td>\n      <td>3.5</td>\n      <td>1</td>\n      <td>0.84</td>\n    </tr>\n    <tr>\n      <th>330</th>\n      <th>9.45</th>\n      <td>383</td>\n      <td>116</td>\n      <td>4</td>\n      <td>5.0</td>\n      <td>4.5</td>\n      <td>1</td>\n      <td>0.91</td>\n    </tr>\n    <tr>\n      <th>312</th>\n      <th>8.78</th>\n      <td>384</td>\n      <td>103</td>\n      <td>3</td>\n      <td>3.5</td>\n      <td>4.0</td>\n      <td>0</td>\n      <td>0.67</td>\n    </tr>\n    <tr>\n      <th>333</th>\n      <th>9.66</th>\n      <td>385</td>\n      <td>117</td>\n      <td>4</td>\n      <td>5.0</td>\n      <td>4.0</td>\n      <td>1</td>\n      <td>0.95</td>\n    </tr>\n  </tbody>\n</table>\n<p>385 rows × 7 columns</p>\n</div>"
     },
     "metadata": {},
     "execution_count": 19
    }
   ],
   "source": [
    "admissions"
   ]
  },
  {
   "cell_type": "markdown",
   "metadata": {},
   "source": [
    "# Challenge 2 - Advanced Functions\n",
    "\n",
    "In this part of the lab, we would like to test complex conditions on the entire dataset at once. Let's start by finding the number of rows where the CGPA is higher than 9 and the student has conducted research."
   ]
  },
  {
   "cell_type": "code",
   "execution_count": 28,
   "metadata": {},
   "outputs": [],
   "source": [
    "# Your code here:\n",
    "\n",
    "admissions = pd.read_csv('../Admission_Predict.csv')\n",
    "admissions.columns = admissions.columns.str.rstrip()\n",
    "admissons_9 = admissions[(admissions[\"CGPA\"] > 9) & (admissions[\"Research\"] == 1)]"
   ]
  },
  {
   "cell_type": "markdown",
   "metadata": {},
   "source": [
    "Now return all the rows where the CGPA is greater than 9 and the SOP score is less than 3.5. Find the mean chance of admit for these applicants."
   ]
  },
  {
   "cell_type": "code",
   "execution_count": 33,
   "metadata": {},
   "outputs": [
    {
     "output_type": "execute_result",
     "data": {
      "text/plain": [
       "0.85"
      ]
     },
     "metadata": {},
     "execution_count": 33
    }
   ],
   "source": [
    "# Your code here:\n",
    "\n",
    "mean_admit = admissons_9[admissons_9[\"SOP\"] < 3.5][\"Chance of Admit\"].mean()\n",
    "\n",
    "mean_admit"
   ]
  },
  {
   "cell_type": "markdown",
   "metadata": {},
   "source": [
    "We would like to create a deciding factor column for each student. We standardize several columns and then pick the most important factor from a lookup table. If the standardized value is above 0.8, the student will be accepted.\n",
    "\n",
    "We will start by creating a standardized column for `CGPA`, `GRE Score` and `LOR`. We will name these columns `CGPA_std`, `GRE_std`, and `LOR_std` respecively.\n",
    "\n",
    "Recall that standardizing a column is done by subtracting the mean of the column from all observations in the column and then dividing each observation in the column by the column's standard deviation.\n",
    "\n",
    "In the cell below, write a standardization function (a function that takes a column as input and returns a standardized column as output). Make sure to use the `numpy` versions of mean and standard deviation."
   ]
  },
  {
   "cell_type": "code",
   "execution_count": 66,
   "metadata": {},
   "outputs": [],
   "source": [
    "import numpy as np\n",
    "\n",
    "mean = admissions[\"CGPA\"].mean()\n",
    "std = admissions[\"CGPA\"].std()\n",
    "\n",
    "def standardize(col):\n",
    "    # This function takes a column from a dataframe and returns a standardized column by subtracting the column's mean\n",
    "    # and dividing by the column's standard deviation.\n",
    "    \n",
    "    # Your code here:\n",
    "    result = col.copy()\n",
    "\n",
    "    mean = col.mean()\n",
    "    std = col.std()\n",
    "\n",
    "    result = (col - mean) / std\n",
    "\n",
    "    return result\n",
    "\n",
    " "
   ]
  },
  {
   "cell_type": "markdown",
   "metadata": {},
   "source": [
    "Now create the standardized columns `CGPA_std`, `GRE_std`, and `LOR_std` and add them to the `admissions` dataframe."
   ]
  },
  {
   "cell_type": "code",
   "execution_count": 72,
   "metadata": {},
   "outputs": [
    {
     "output_type": "execute_result",
     "data": {
      "text/plain": [
       "     Serial No.  GRE Score  TOEFL Score  University Rating  SOP  LOR  CGPA  \\\n",
       "0             1        337          118                  4  4.5  4.5  9.65   \n",
       "1             2        316          104                  3  3.0  3.5  8.00   \n",
       "2             3        322          110                  3  3.5  2.5  8.67   \n",
       "3             4        314          103                  2  2.0  3.0  8.21   \n",
       "4             5        330          115                  5  4.5  3.0  9.34   \n",
       "..          ...        ...          ...                ...  ...  ...   ...   \n",
       "380         381        324          110                  3  3.5  3.5  9.04   \n",
       "381         382        325          107                  3  3.0  3.5  9.11   \n",
       "382         383        330          116                  4  5.0  4.5  9.45   \n",
       "383         384        312          103                  3  3.5  4.0  8.78   \n",
       "384         385        333          117                  4  5.0  4.0  9.66   \n",
       "\n",
       "     Research  Chance of Admit  CGPA_std   GRE_std   LOR_std  \n",
       "0           1             0.92  1.747900  1.753381  1.191647  \n",
       "1           1             0.72 -0.991211 -0.063367  0.076740  \n",
       "2           1             0.80  0.121034  0.455704 -1.038166  \n",
       "3           0             0.65 -0.642597 -0.236391 -0.480713  \n",
       "4           1             0.90  1.233279  1.147798 -0.480713  \n",
       "..        ...              ...       ...       ...       ...  \n",
       "380         1             0.82  0.735259  0.628727  0.076740  \n",
       "381         1             0.84  0.851463  0.715239  0.076740  \n",
       "382         1             0.91  1.415886  1.147798  1.191647  \n",
       "383         0             0.67  0.303641 -0.409414  0.634193  \n",
       "384         1             0.95  1.764500  1.407334  0.634193  \n",
       "\n",
       "[385 rows x 12 columns]"
      ],
      "text/html": "<div>\n<style scoped>\n    .dataframe tbody tr th:only-of-type {\n        vertical-align: middle;\n    }\n\n    .dataframe tbody tr th {\n        vertical-align: top;\n    }\n\n    .dataframe thead th {\n        text-align: right;\n    }\n</style>\n<table border=\"1\" class=\"dataframe\">\n  <thead>\n    <tr style=\"text-align: right;\">\n      <th></th>\n      <th>Serial No.</th>\n      <th>GRE Score</th>\n      <th>TOEFL Score</th>\n      <th>University Rating</th>\n      <th>SOP</th>\n      <th>LOR</th>\n      <th>CGPA</th>\n      <th>Research</th>\n      <th>Chance of Admit</th>\n      <th>CGPA_std</th>\n      <th>GRE_std</th>\n      <th>LOR_std</th>\n    </tr>\n  </thead>\n  <tbody>\n    <tr>\n      <th>0</th>\n      <td>1</td>\n      <td>337</td>\n      <td>118</td>\n      <td>4</td>\n      <td>4.5</td>\n      <td>4.5</td>\n      <td>9.65</td>\n      <td>1</td>\n      <td>0.92</td>\n      <td>1.747900</td>\n      <td>1.753381</td>\n      <td>1.191647</td>\n    </tr>\n    <tr>\n      <th>1</th>\n      <td>2</td>\n      <td>316</td>\n      <td>104</td>\n      <td>3</td>\n      <td>3.0</td>\n      <td>3.5</td>\n      <td>8.00</td>\n      <td>1</td>\n      <td>0.72</td>\n      <td>-0.991211</td>\n      <td>-0.063367</td>\n      <td>0.076740</td>\n    </tr>\n    <tr>\n      <th>2</th>\n      <td>3</td>\n      <td>322</td>\n      <td>110</td>\n      <td>3</td>\n      <td>3.5</td>\n      <td>2.5</td>\n      <td>8.67</td>\n      <td>1</td>\n      <td>0.80</td>\n      <td>0.121034</td>\n      <td>0.455704</td>\n      <td>-1.038166</td>\n    </tr>\n    <tr>\n      <th>3</th>\n      <td>4</td>\n      <td>314</td>\n      <td>103</td>\n      <td>2</td>\n      <td>2.0</td>\n      <td>3.0</td>\n      <td>8.21</td>\n      <td>0</td>\n      <td>0.65</td>\n      <td>-0.642597</td>\n      <td>-0.236391</td>\n      <td>-0.480713</td>\n    </tr>\n    <tr>\n      <th>4</th>\n      <td>5</td>\n      <td>330</td>\n      <td>115</td>\n      <td>5</td>\n      <td>4.5</td>\n      <td>3.0</td>\n      <td>9.34</td>\n      <td>1</td>\n      <td>0.90</td>\n      <td>1.233279</td>\n      <td>1.147798</td>\n      <td>-0.480713</td>\n    </tr>\n    <tr>\n      <th>...</th>\n      <td>...</td>\n      <td>...</td>\n      <td>...</td>\n      <td>...</td>\n      <td>...</td>\n      <td>...</td>\n      <td>...</td>\n      <td>...</td>\n      <td>...</td>\n      <td>...</td>\n      <td>...</td>\n      <td>...</td>\n    </tr>\n    <tr>\n      <th>380</th>\n      <td>381</td>\n      <td>324</td>\n      <td>110</td>\n      <td>3</td>\n      <td>3.5</td>\n      <td>3.5</td>\n      <td>9.04</td>\n      <td>1</td>\n      <td>0.82</td>\n      <td>0.735259</td>\n      <td>0.628727</td>\n      <td>0.076740</td>\n    </tr>\n    <tr>\n      <th>381</th>\n      <td>382</td>\n      <td>325</td>\n      <td>107</td>\n      <td>3</td>\n      <td>3.0</td>\n      <td>3.5</td>\n      <td>9.11</td>\n      <td>1</td>\n      <td>0.84</td>\n      <td>0.851463</td>\n      <td>0.715239</td>\n      <td>0.076740</td>\n    </tr>\n    <tr>\n      <th>382</th>\n      <td>383</td>\n      <td>330</td>\n      <td>116</td>\n      <td>4</td>\n      <td>5.0</td>\n      <td>4.5</td>\n      <td>9.45</td>\n      <td>1</td>\n      <td>0.91</td>\n      <td>1.415886</td>\n      <td>1.147798</td>\n      <td>1.191647</td>\n    </tr>\n    <tr>\n      <th>383</th>\n      <td>384</td>\n      <td>312</td>\n      <td>103</td>\n      <td>3</td>\n      <td>3.5</td>\n      <td>4.0</td>\n      <td>8.78</td>\n      <td>0</td>\n      <td>0.67</td>\n      <td>0.303641</td>\n      <td>-0.409414</td>\n      <td>0.634193</td>\n    </tr>\n    <tr>\n      <th>384</th>\n      <td>385</td>\n      <td>333</td>\n      <td>117</td>\n      <td>4</td>\n      <td>5.0</td>\n      <td>4.0</td>\n      <td>9.66</td>\n      <td>1</td>\n      <td>0.95</td>\n      <td>1.764500</td>\n      <td>1.407334</td>\n      <td>0.634193</td>\n    </tr>\n  </tbody>\n</table>\n<p>385 rows × 12 columns</p>\n</div>"
     },
     "metadata": {},
     "execution_count": 72
    }
   ],
   "source": [
    "# Your code here:\n",
    "\n",
    "admissions[\"CGPA_std\"] = standardize(admissions[\"CGPA\"])\n",
    "\n",
    "admissions[\"GRE_std\"] = standardize(admissions[\"GRE Score\"])\n",
    "\n",
    "admissions[\"LOR_std\"] = standardize(admissions[\"LOR\"])\n",
    "\n",
    "admissions"
   ]
  },
  {
   "cell_type": "markdown",
   "metadata": {},
   "source": [
    "We will generate the decision choice at random using the code below. Please run the cell."
   ]
  },
  {
   "cell_type": "code",
   "execution_count": 80,
   "metadata": {},
   "outputs": [],
   "source": [
    "# Run this code:\n",
    "\n",
    "from random import choices\n",
    "std_columns = ['CGPA_std', 'GRE_std', 'LOR_std']\n",
    "\n",
    "decision_choice = choices(std_columns, k=admissions.shape[0])\n"
   ]
  },
  {
   "cell_type": "markdown",
   "metadata": {},
   "source": [
    "Now create the deciding column using the `lookup` function. The lookup column is `decision_choice` found above. Call the column resulting from the lookup function `deciding_column` and add it to the `admissions` dataframe."
   ]
  },
  {
   "cell_type": "code",
   "execution_count": 82,
   "metadata": {},
   "outputs": [
    {
     "output_type": "error",
     "ename": "TypeError",
     "evalue": "lookup() missing 1 required positional argument: 'col_labels'",
     "traceback": [
      "\u001b[0;31m---------------------------------------------------------------------------\u001b[0m",
      "\u001b[0;31mTypeError\u001b[0m                                 Traceback (most recent call last)",
      "\u001b[0;32m<ipython-input-82-e03e578a9a2c>\u001b[0m in \u001b[0;36m<module>\u001b[0;34m\u001b[0m\n\u001b[1;32m      1\u001b[0m \u001b[0;31m# Your code here:\u001b[0m\u001b[0;34m\u001b[0m\u001b[0;34m\u001b[0m\u001b[0;34m\u001b[0m\u001b[0m\n\u001b[1;32m      2\u001b[0m \u001b[0;34m\u001b[0m\u001b[0m\n\u001b[0;32m----> 3\u001b[0;31m \u001b[0madmissions\u001b[0m\u001b[0;34m[\u001b[0m\u001b[0;34m\"deciding_column\"\u001b[0m\u001b[0;34m]\u001b[0m \u001b[0;34m=\u001b[0m \u001b[0madmissions\u001b[0m\u001b[0;34m.\u001b[0m\u001b[0mlookup\u001b[0m\u001b[0;34m(\u001b[0m\u001b[0mdecision_choice\u001b[0m\u001b[0;34m)\u001b[0m\u001b[0;34m\u001b[0m\u001b[0;34m\u001b[0m\u001b[0m\n\u001b[0m",
      "\u001b[0;31mTypeError\u001b[0m: lookup() missing 1 required positional argument: 'col_labels'"
     ]
    }
   ],
   "source": [
    "# Your code here:\n",
    "\n",
    "admissions[\"deciding_column\"] = admissions.lookup(decision_choice)"
   ]
  },
  {
   "cell_type": "code",
   "execution_count": 77,
   "metadata": {},
   "outputs": [
    {
     "output_type": "stream",
     "name": "stdout",
     "text": [
      "Help on method lookup in module pandas.core.frame:\n\nlookup(row_labels, col_labels) -> numpy.ndarray method of pandas.core.frame.DataFrame instance\n    Label-based \"fancy indexing\" function for DataFrame.\n    \n    Given equal-length arrays of row and column labels, return an\n    array of the values corresponding to each (row, col) pair.\n    \n    Parameters\n    ----------\n    row_labels : sequence\n        The row labels to use for lookup.\n    col_labels : sequence\n        The column labels to use for lookup.\n    \n    Returns\n    -------\n    numpy.ndarray\n        The found values.\n\n"
     ]
    }
   ],
   "source": [
    "help(admissions.lookup)"
   ]
  },
  {
   "cell_type": "markdown",
   "metadata": {},
   "source": [
    "Create a column called `decision` in the `admissions` dataframe. Assign 1 to this column if the value of `deciding_column` is greater than 0.8 and 0 otherwise."
   ]
  },
  {
   "cell_type": "code",
   "execution_count": 12,
   "metadata": {},
   "outputs": [],
   "source": [
    "# Your code here:\n",
    "\n"
   ]
  },
  {
   "cell_type": "markdown",
   "metadata": {},
   "source": [
    "How many applicants will be accepted to the program using the decision column? Compute the result below."
   ]
  },
  {
   "cell_type": "code",
   "execution_count": 13,
   "metadata": {},
   "outputs": [],
   "source": [
    "# Your code here:\n",
    "\n"
   ]
  },
  {
   "cell_type": "markdown",
   "metadata": {},
   "source": [
    "# Challenge 3 - Method Chaining\n",
    "\n",
    "To increase our coding efficiency, let's make a number of changes to our dataframe in one line of code.\n",
    "\n",
    "In the cell below, remove all non character symbols from the column names, replace all spaces in column names to underscores, and change all upper case characters to lower case. Assign these new column values to `admissions.columns`."
   ]
  },
  {
   "cell_type": "code",
   "execution_count": 12,
   "metadata": {},
   "outputs": [
    {
     "output_type": "execute_result",
     "data": {
      "text/plain": [
       "Index(['serial_no', 'gre_score', 'toefl_score', 'university_rating', 'sop',\n",
       "       'lor', 'cgpa', 'research', 'chance_of_admit'],\n",
       "      dtype='object')"
      ]
     },
     "metadata": {},
     "execution_count": 12
    }
   ],
   "source": [
    "# Your code here:\n",
    "\n",
    "admissions.columns = admissions.columns.str.replace(\" \", \"_\").str.lower()\n",
    "\n",
    "admissions.columns"
   ]
  },
  {
   "cell_type": "markdown",
   "metadata": {},
   "source": [
    "In the cell below, give all student with a university rating of 4 or higher a 10 point boost on their GRE score and split the column into 4 bins using the `cut` function. Assign this new score to the variable `adjusted_gre`."
   ]
  },
  {
   "cell_type": "code",
   "execution_count": 34,
   "metadata": {},
   "outputs": [
    {
     "output_type": "stream",
     "name": "stderr",
     "text": [
      "/Users/miquicampuzano/opt/anaconda3/lib/python3.8/site-packages/pandas/core/indexing.py:670: SettingWithCopyWarning: \nA value is trying to be set on a copy of a slice from a DataFrame\n\nSee the caveats in the documentation: https://pandas.pydata.org/pandas-docs/stable/user_guide/indexing.html#returning-a-view-versus-a-copy\n  iloc._setitem_with_indexer(indexer, value)\n"
     ]
    },
    {
     "output_type": "execute_result",
     "data": {
      "text/plain": [
       "     serial_no  gre_score  toefl_score  university_rating  sop  lor  cgpa  \\\n",
       "0            1        337          118                  4  4.5  4.5  9.65   \n",
       "1            2        316          104                  3  3.0  3.5  8.00   \n",
       "2            3        322          110                  3  3.5  2.5  8.67   \n",
       "3            4        314          103                  2  2.0  3.0  8.21   \n",
       "4            5        330          115                  5  4.5  3.0  9.34   \n",
       "..         ...        ...          ...                ...  ...  ...   ...   \n",
       "380        381        324          110                  3  3.5  3.5  9.04   \n",
       "381        382        325          107                  3  3.0  3.5  9.11   \n",
       "382        383        330          116                  4  5.0  4.5  9.45   \n",
       "383        384        312          103                  3  3.5  4.0  8.78   \n",
       "384        385        333          117                  4  5.0  4.0  9.66   \n",
       "\n",
       "     research  chance_of_admit  adjusted_gre  \n",
       "0           1             0.92         370.7  \n",
       "1           1             0.72         316.0  \n",
       "2           1             0.80         322.0  \n",
       "3           0             0.65         314.0  \n",
       "4           1             0.90         363.0  \n",
       "..        ...              ...           ...  \n",
       "380         1             0.82         324.0  \n",
       "381         1             0.84         325.0  \n",
       "382         1             0.91         363.0  \n",
       "383         0             0.67         312.0  \n",
       "384         1             0.95         366.3  \n",
       "\n",
       "[385 rows x 10 columns]"
      ],
      "text/html": "<div>\n<style scoped>\n    .dataframe tbody tr th:only-of-type {\n        vertical-align: middle;\n    }\n\n    .dataframe tbody tr th {\n        vertical-align: top;\n    }\n\n    .dataframe thead th {\n        text-align: right;\n    }\n</style>\n<table border=\"1\" class=\"dataframe\">\n  <thead>\n    <tr style=\"text-align: right;\">\n      <th></th>\n      <th>serial_no</th>\n      <th>gre_score</th>\n      <th>toefl_score</th>\n      <th>university_rating</th>\n      <th>sop</th>\n      <th>lor</th>\n      <th>cgpa</th>\n      <th>research</th>\n      <th>chance_of_admit</th>\n      <th>adjusted_gre</th>\n    </tr>\n  </thead>\n  <tbody>\n    <tr>\n      <th>0</th>\n      <td>1</td>\n      <td>337</td>\n      <td>118</td>\n      <td>4</td>\n      <td>4.5</td>\n      <td>4.5</td>\n      <td>9.65</td>\n      <td>1</td>\n      <td>0.92</td>\n      <td>370.7</td>\n    </tr>\n    <tr>\n      <th>1</th>\n      <td>2</td>\n      <td>316</td>\n      <td>104</td>\n      <td>3</td>\n      <td>3.0</td>\n      <td>3.5</td>\n      <td>8.00</td>\n      <td>1</td>\n      <td>0.72</td>\n      <td>316.0</td>\n    </tr>\n    <tr>\n      <th>2</th>\n      <td>3</td>\n      <td>322</td>\n      <td>110</td>\n      <td>3</td>\n      <td>3.5</td>\n      <td>2.5</td>\n      <td>8.67</td>\n      <td>1</td>\n      <td>0.80</td>\n      <td>322.0</td>\n    </tr>\n    <tr>\n      <th>3</th>\n      <td>4</td>\n      <td>314</td>\n      <td>103</td>\n      <td>2</td>\n      <td>2.0</td>\n      <td>3.0</td>\n      <td>8.21</td>\n      <td>0</td>\n      <td>0.65</td>\n      <td>314.0</td>\n    </tr>\n    <tr>\n      <th>4</th>\n      <td>5</td>\n      <td>330</td>\n      <td>115</td>\n      <td>5</td>\n      <td>4.5</td>\n      <td>3.0</td>\n      <td>9.34</td>\n      <td>1</td>\n      <td>0.90</td>\n      <td>363.0</td>\n    </tr>\n    <tr>\n      <th>...</th>\n      <td>...</td>\n      <td>...</td>\n      <td>...</td>\n      <td>...</td>\n      <td>...</td>\n      <td>...</td>\n      <td>...</td>\n      <td>...</td>\n      <td>...</td>\n      <td>...</td>\n    </tr>\n    <tr>\n      <th>380</th>\n      <td>381</td>\n      <td>324</td>\n      <td>110</td>\n      <td>3</td>\n      <td>3.5</td>\n      <td>3.5</td>\n      <td>9.04</td>\n      <td>1</td>\n      <td>0.82</td>\n      <td>324.0</td>\n    </tr>\n    <tr>\n      <th>381</th>\n      <td>382</td>\n      <td>325</td>\n      <td>107</td>\n      <td>3</td>\n      <td>3.0</td>\n      <td>3.5</td>\n      <td>9.11</td>\n      <td>1</td>\n      <td>0.84</td>\n      <td>325.0</td>\n    </tr>\n    <tr>\n      <th>382</th>\n      <td>383</td>\n      <td>330</td>\n      <td>116</td>\n      <td>4</td>\n      <td>5.0</td>\n      <td>4.5</td>\n      <td>9.45</td>\n      <td>1</td>\n      <td>0.91</td>\n      <td>363.0</td>\n    </tr>\n    <tr>\n      <th>383</th>\n      <td>384</td>\n      <td>312</td>\n      <td>103</td>\n      <td>3</td>\n      <td>3.5</td>\n      <td>4.0</td>\n      <td>8.78</td>\n      <td>0</td>\n      <td>0.67</td>\n      <td>312.0</td>\n    </tr>\n    <tr>\n      <th>384</th>\n      <td>385</td>\n      <td>333</td>\n      <td>117</td>\n      <td>4</td>\n      <td>5.0</td>\n      <td>4.0</td>\n      <td>9.66</td>\n      <td>1</td>\n      <td>0.95</td>\n      <td>366.3</td>\n    </tr>\n  </tbody>\n</table>\n<p>385 rows × 10 columns</p>\n</div>"
     },
     "metadata": {},
     "execution_count": 34
    }
   ],
   "source": [
    "# Your code here:\n",
    "\n",
    "for i in admissions.index:\n",
    "    if admissions[\"university_rating\"].loc[i] >= 4:\n",
    "        admissions[\"adjusted_gre\"].loc[i] = admissions[\"gre_score\"].loc[i] * 1.1\n",
    "    else:\n",
    "        admissions[\"adjusted_gre\"].loc[i] = admissions[\"gre_score\"].loc[i]\n"
   ]
  }
 ],
 "metadata": {
  "kernelspec": {
   "name": "python385jvsc74a57bd059eaf4d6d74e1d9eec5b10c94472bd4b4513ca1fc34db018fc328b2040b24e92",
   "display_name": "Python 3.8.5 64-bit ('base': conda)"
  },
  "language_info": {
   "codemirror_mode": {
    "name": "ipython",
    "version": 3
   },
   "file_extension": ".py",
   "mimetype": "text/x-python",
   "name": "python",
   "nbconvert_exporter": "python",
   "pygments_lexer": "ipython3",
   "version": "3.8.5-final"
  },
  "latex_envs": {
   "LaTeX_envs_menu_present": true,
   "autoclose": false,
   "autocomplete": true,
   "bibliofile": "biblio.bib",
   "cite_by": "apalike",
   "current_citInitial": 1,
   "eqLabelWithNumbers": true,
   "eqNumInitial": 1,
   "hotkeys": {
    "equation": "Ctrl-E",
    "itemize": "Ctrl-I"
   },
   "labels_anchors": false,
   "latex_user_defs": false,
   "report_style_numbering": false,
   "user_envs_cfg": false
  },
  "toc": {
   "base_numbering": 1,
   "nav_menu": {},
   "number_sections": true,
   "sideBar": true,
   "skip_h1_title": false,
   "title_cell": "Table of Contents",
   "title_sidebar": "Contents",
   "toc_cell": true,
   "toc_position": {},
   "toc_section_display": true,
   "toc_window_display": false
  },
  "varInspector": {
   "cols": {
    "lenName": 16,
    "lenType": 16,
    "lenVar": 40
   },
   "kernels_config": {
    "python": {
     "delete_cmd_postfix": "",
     "delete_cmd_prefix": "del ",
     "library": "var_list.py",
     "varRefreshCmd": "print(var_dic_list())"
    },
    "r": {
     "delete_cmd_postfix": ") ",
     "delete_cmd_prefix": "rm(",
     "library": "var_list.r",
     "varRefreshCmd": "cat(var_dic_list()) "
    }
   },
   "types_to_exclude": [
    "module",
    "function",
    "builtin_function_or_method",
    "instance",
    "_Feature"
   ],
   "window_display": false
  }
 },
 "nbformat": 4,
 "nbformat_minor": 2
}