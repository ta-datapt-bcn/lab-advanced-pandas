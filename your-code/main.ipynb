{
 "cells": [
  {
   "cell_type": "markdown",
   "metadata": {},
   "source": [
    "# Before your start:\n",
    "- Read the README.md file\n",
    "- Comment as much as you can and use the resources (README.md file)\n",
    "- Happy learning!"
   ]
  },
  {
   "cell_type": "code",
   "execution_count": 1,
   "metadata": {},
   "outputs": [],
   "source": [
    "# import numpy and pandas\n",
    "import pandas as pd\n",
    "import numpy as np"
   ]
  },
  {
   "cell_type": "markdown",
   "metadata": {},
   "source": [
    "# Challenge 1 - Index Functions\n",
    "\n",
    "In this challenge, we will practice the advanced functions introduced in the lesson. However, before we start, we will load and evaluate our dataset."
   ]
  },
  {
   "cell_type": "code",
   "execution_count": 2,
   "metadata": {},
   "outputs": [],
   "source": [
    "# Run this code:\n",
    "admissions = pd.read_csv('../Admission_Predict.csv')\n",
    "#to remove trailing spaces at the end of the column names\n",
    "admissions.columns = admissions.columns.str.rstrip()"
   ]
  },
  {
   "cell_type": "markdown",
   "metadata": {},
   "source": [
    "Let's evaluate the dataset by looking at the `head` function."
   ]
  },
  {
   "cell_type": "code",
   "execution_count": 3,
   "metadata": {},
   "outputs": [
    {
     "output_type": "execute_result",
     "data": {
      "text/plain": [
       "   Serial No.  GRE Score  TOEFL Score  University Rating  SOP  LOR  CGPA  \\\n",
       "0           1        337          118                  4  4.5  4.5  9.65   \n",
       "1           2        316          104                  3  3.0  3.5  8.00   \n",
       "2           3        322          110                  3  3.5  2.5  8.67   \n",
       "3           4        314          103                  2  2.0  3.0  8.21   \n",
       "4           5        330          115                  5  4.5  3.0  9.34   \n",
       "\n",
       "   Research  Chance of Admit  \n",
       "0         1             0.92  \n",
       "1         1             0.72  \n",
       "2         1             0.80  \n",
       "3         0             0.65  \n",
       "4         1             0.90  "
      ],
      "text/html": "<div>\n<style scoped>\n    .dataframe tbody tr th:only-of-type {\n        vertical-align: middle;\n    }\n\n    .dataframe tbody tr th {\n        vertical-align: top;\n    }\n\n    .dataframe thead th {\n        text-align: right;\n    }\n</style>\n<table border=\"1\" class=\"dataframe\">\n  <thead>\n    <tr style=\"text-align: right;\">\n      <th></th>\n      <th>Serial No.</th>\n      <th>GRE Score</th>\n      <th>TOEFL Score</th>\n      <th>University Rating</th>\n      <th>SOP</th>\n      <th>LOR</th>\n      <th>CGPA</th>\n      <th>Research</th>\n      <th>Chance of Admit</th>\n    </tr>\n  </thead>\n  <tbody>\n    <tr>\n      <th>0</th>\n      <td>1</td>\n      <td>337</td>\n      <td>118</td>\n      <td>4</td>\n      <td>4.5</td>\n      <td>4.5</td>\n      <td>9.65</td>\n      <td>1</td>\n      <td>0.92</td>\n    </tr>\n    <tr>\n      <th>1</th>\n      <td>2</td>\n      <td>316</td>\n      <td>104</td>\n      <td>3</td>\n      <td>3.0</td>\n      <td>3.5</td>\n      <td>8.00</td>\n      <td>1</td>\n      <td>0.72</td>\n    </tr>\n    <tr>\n      <th>2</th>\n      <td>3</td>\n      <td>322</td>\n      <td>110</td>\n      <td>3</td>\n      <td>3.5</td>\n      <td>2.5</td>\n      <td>8.67</td>\n      <td>1</td>\n      <td>0.80</td>\n    </tr>\n    <tr>\n      <th>3</th>\n      <td>4</td>\n      <td>314</td>\n      <td>103</td>\n      <td>2</td>\n      <td>2.0</td>\n      <td>3.0</td>\n      <td>8.21</td>\n      <td>0</td>\n      <td>0.65</td>\n    </tr>\n    <tr>\n      <th>4</th>\n      <td>5</td>\n      <td>330</td>\n      <td>115</td>\n      <td>5</td>\n      <td>4.5</td>\n      <td>3.0</td>\n      <td>9.34</td>\n      <td>1</td>\n      <td>0.90</td>\n    </tr>\n  </tbody>\n</table>\n</div>"
     },
     "metadata": {},
     "execution_count": 3
    }
   ],
   "source": [
    "# Your code here:\n",
    "admissions.head()"
   ]
  },
  {
   "cell_type": "markdown",
   "metadata": {},
   "source": [
    "Before beginning to work with this dataset and evaluating graduate admissions data, we will verify that there is no missing data in the dataset. Do this in the cell below."
   ]
  },
  {
   "cell_type": "code",
   "execution_count": 4,
   "metadata": {},
   "outputs": [
    {
     "output_type": "execute_result",
     "data": {
      "text/plain": [
       "Serial No.           0\n",
       "GRE Score            0\n",
       "TOEFL Score          0\n",
       "University Rating    0\n",
       "SOP                  0\n",
       "LOR                  0\n",
       "CGPA                 0\n",
       "Research             0\n",
       "Chance of Admit      0\n",
       "dtype: int64"
      ]
     },
     "metadata": {},
     "execution_count": 4
    }
   ],
   "source": [
    "# Your code here:\n",
    "admissions.isna().sum()"
   ]
  },
  {
   "cell_type": "markdown",
   "metadata": {},
   "source": [
    "Interestingly, there is a column that uniquely identifies the applicants. This column is the serial number column. Instead of having our own index, we should make this column our index. Do this in the cell below. Keep the column in the dataframe in addition to making it an index."
   ]
  },
  {
   "cell_type": "code",
   "execution_count": 5,
   "metadata": {},
   "outputs": [],
   "source": [
    "# Your code here:\n",
    "admissions.set_index('Serial No.', inplace=True)\n",
    "admissions.insert(loc=0, column='Serial No. 2', value=admissions.index)"
   ]
  },
  {
   "cell_type": "code",
   "execution_count": 6,
   "metadata": {},
   "outputs": [
    {
     "output_type": "execute_result",
     "data": {
      "text/plain": [
       "            Serial No. 2  GRE Score  TOEFL Score  University Rating  SOP  LOR  \\\n",
       "Serial No.                                                                      \n",
       "1                      1        337          118                  4  4.5  4.5   \n",
       "2                      2        316          104                  3  3.0  3.5   \n",
       "3                      3        322          110                  3  3.5  2.5   \n",
       "4                      4        314          103                  2  2.0  3.0   \n",
       "5                      5        330          115                  5  4.5  3.0   \n",
       "\n",
       "            CGPA  Research  Chance of Admit  \n",
       "Serial No.                                   \n",
       "1           9.65         1             0.92  \n",
       "2           8.00         1             0.72  \n",
       "3           8.67         1             0.80  \n",
       "4           8.21         0             0.65  \n",
       "5           9.34         1             0.90  "
      ],
      "text/html": "<div>\n<style scoped>\n    .dataframe tbody tr th:only-of-type {\n        vertical-align: middle;\n    }\n\n    .dataframe tbody tr th {\n        vertical-align: top;\n    }\n\n    .dataframe thead th {\n        text-align: right;\n    }\n</style>\n<table border=\"1\" class=\"dataframe\">\n  <thead>\n    <tr style=\"text-align: right;\">\n      <th></th>\n      <th>Serial No. 2</th>\n      <th>GRE Score</th>\n      <th>TOEFL Score</th>\n      <th>University Rating</th>\n      <th>SOP</th>\n      <th>LOR</th>\n      <th>CGPA</th>\n      <th>Research</th>\n      <th>Chance of Admit</th>\n    </tr>\n    <tr>\n      <th>Serial No.</th>\n      <th></th>\n      <th></th>\n      <th></th>\n      <th></th>\n      <th></th>\n      <th></th>\n      <th></th>\n      <th></th>\n      <th></th>\n    </tr>\n  </thead>\n  <tbody>\n    <tr>\n      <th>1</th>\n      <td>1</td>\n      <td>337</td>\n      <td>118</td>\n      <td>4</td>\n      <td>4.5</td>\n      <td>4.5</td>\n      <td>9.65</td>\n      <td>1</td>\n      <td>0.92</td>\n    </tr>\n    <tr>\n      <th>2</th>\n      <td>2</td>\n      <td>316</td>\n      <td>104</td>\n      <td>3</td>\n      <td>3.0</td>\n      <td>3.5</td>\n      <td>8.00</td>\n      <td>1</td>\n      <td>0.72</td>\n    </tr>\n    <tr>\n      <th>3</th>\n      <td>3</td>\n      <td>322</td>\n      <td>110</td>\n      <td>3</td>\n      <td>3.5</td>\n      <td>2.5</td>\n      <td>8.67</td>\n      <td>1</td>\n      <td>0.80</td>\n    </tr>\n    <tr>\n      <th>4</th>\n      <td>4</td>\n      <td>314</td>\n      <td>103</td>\n      <td>2</td>\n      <td>2.0</td>\n      <td>3.0</td>\n      <td>8.21</td>\n      <td>0</td>\n      <td>0.65</td>\n    </tr>\n    <tr>\n      <th>5</th>\n      <td>5</td>\n      <td>330</td>\n      <td>115</td>\n      <td>5</td>\n      <td>4.5</td>\n      <td>3.0</td>\n      <td>9.34</td>\n      <td>1</td>\n      <td>0.90</td>\n    </tr>\n  </tbody>\n</table>\n</div>"
     },
     "metadata": {},
     "execution_count": 6
    }
   ],
   "source": [
    "admissions.head()"
   ]
  },
  {
   "cell_type": "markdown",
   "metadata": {},
   "source": [
    "Turns out that `GRE Score` and `CGPA` also uniquely identify the data. Show this in the cell below."
   ]
  },
  {
   "cell_type": "code",
   "execution_count": 7,
   "metadata": {},
   "outputs": [
    {
     "output_type": "execute_result",
     "data": {
      "text/plain": [
       "True"
      ]
     },
     "metadata": {},
     "execution_count": 7
    }
   ],
   "source": [
    "# Your code here:\n",
    "admissions.set_index(['GRE Score','CGPA']).index.is_unique\n",
    "\n",
    "# Otra opción:\n",
    "# sum(admissions[['GRE Score','CGPA']].duplicated())"
   ]
  },
  {
   "cell_type": "markdown",
   "metadata": {},
   "source": [
    "Replace the index with an index comprised of two columns - `GRE Score` and `CGPA`. Remove the columns from the dataset as well. Make sure to use `inplace=True`."
   ]
  },
  {
   "cell_type": "code",
   "execution_count": 8,
   "metadata": {},
   "outputs": [],
   "source": [
    "# Your code here:\n",
    "admissions.reset_index(inplace=True)"
   ]
  },
  {
   "cell_type": "code",
   "execution_count": 9,
   "metadata": {},
   "outputs": [],
   "source": [
    "admissions.drop(columns='Serial No. 2', inplace=True)"
   ]
  },
  {
   "cell_type": "code",
   "execution_count": 10,
   "metadata": {},
   "outputs": [],
   "source": [
    "admissions.set_index(['GRE Score','CGPA'], inplace=True)"
   ]
  },
  {
   "cell_type": "markdown",
   "metadata": {},
   "source": [
    "Now change the index back to a sequence starting at zero using the `reset_index` function. Make sure to use `inplace=True`."
   ]
  },
  {
   "cell_type": "code",
   "execution_count": 11,
   "metadata": {},
   "outputs": [],
   "source": [
    "admissions.reset_index(inplace=True)"
   ]
  },
  {
   "cell_type": "markdown",
   "metadata": {},
   "source": [
    "# Challenge 2 - Advanced Functions\n",
    "\n",
    "In this part of the lab, we would like to test complex conditions on the entire dataset at once. Let's start by finding the number of rows where the CGPA is higher than 9 and the student has conducted research."
   ]
  },
  {
   "cell_type": "code",
   "execution_count": 12,
   "metadata": {},
   "outputs": [
    {
     "output_type": "execute_result",
     "data": {
      "text/plain": [
       "   GRE Score  CGPA  Serial No.  TOEFL Score  University Rating  SOP  LOR  \\\n",
       "0        337  9.65           1          118                  4  4.5  4.5   \n",
       "1        316  8.00           2          104                  3  3.0  3.5   \n",
       "2        322  8.67           3          110                  3  3.5  2.5   \n",
       "3        314  8.21           4          103                  2  2.0  3.0   \n",
       "4        330  9.34           5          115                  5  4.5  3.0   \n",
       "\n",
       "   Research  Chance of Admit  \n",
       "0         1             0.92  \n",
       "1         1             0.72  \n",
       "2         1             0.80  \n",
       "3         0             0.65  \n",
       "4         1             0.90  "
      ],
      "text/html": "<div>\n<style scoped>\n    .dataframe tbody tr th:only-of-type {\n        vertical-align: middle;\n    }\n\n    .dataframe tbody tr th {\n        vertical-align: top;\n    }\n\n    .dataframe thead th {\n        text-align: right;\n    }\n</style>\n<table border=\"1\" class=\"dataframe\">\n  <thead>\n    <tr style=\"text-align: right;\">\n      <th></th>\n      <th>GRE Score</th>\n      <th>CGPA</th>\n      <th>Serial No.</th>\n      <th>TOEFL Score</th>\n      <th>University Rating</th>\n      <th>SOP</th>\n      <th>LOR</th>\n      <th>Research</th>\n      <th>Chance of Admit</th>\n    </tr>\n  </thead>\n  <tbody>\n    <tr>\n      <th>0</th>\n      <td>337</td>\n      <td>9.65</td>\n      <td>1</td>\n      <td>118</td>\n      <td>4</td>\n      <td>4.5</td>\n      <td>4.5</td>\n      <td>1</td>\n      <td>0.92</td>\n    </tr>\n    <tr>\n      <th>1</th>\n      <td>316</td>\n      <td>8.00</td>\n      <td>2</td>\n      <td>104</td>\n      <td>3</td>\n      <td>3.0</td>\n      <td>3.5</td>\n      <td>1</td>\n      <td>0.72</td>\n    </tr>\n    <tr>\n      <th>2</th>\n      <td>322</td>\n      <td>8.67</td>\n      <td>3</td>\n      <td>110</td>\n      <td>3</td>\n      <td>3.5</td>\n      <td>2.5</td>\n      <td>1</td>\n      <td>0.80</td>\n    </tr>\n    <tr>\n      <th>3</th>\n      <td>314</td>\n      <td>8.21</td>\n      <td>4</td>\n      <td>103</td>\n      <td>2</td>\n      <td>2.0</td>\n      <td>3.0</td>\n      <td>0</td>\n      <td>0.65</td>\n    </tr>\n    <tr>\n      <th>4</th>\n      <td>330</td>\n      <td>9.34</td>\n      <td>5</td>\n      <td>115</td>\n      <td>5</td>\n      <td>4.5</td>\n      <td>3.0</td>\n      <td>1</td>\n      <td>0.90</td>\n    </tr>\n  </tbody>\n</table>\n</div>"
     },
     "metadata": {},
     "execution_count": 12
    }
   ],
   "source": [
    "# Your code here:\n",
    "admissions.head()"
   ]
  },
  {
   "cell_type": "code",
   "execution_count": 13,
   "metadata": {},
   "outputs": [
    {
     "output_type": "execute_result",
     "data": {
      "text/plain": [
       "101"
      ]
     },
     "metadata": {},
     "execution_count": 13
    }
   ],
   "source": [
    "len(admissions[(admissions['CGPA'] > 9) & (admissions['Research'] == 1)])"
   ]
  },
  {
   "cell_type": "markdown",
   "metadata": {},
   "source": [
    "Now return all the rows where the CGPA is greater than 9 and the SOP score is less than 3.5. Find the mean chance of admit for these applicants."
   ]
  },
  {
   "cell_type": "code",
   "execution_count": 14,
   "metadata": {},
   "outputs": [
    {
     "output_type": "execute_result",
     "data": {
      "text/plain": [
       "     GRE Score  CGPA  Serial No.  TOEFL Score  University Rating  SOP  LOR  \\\n",
       "28         338  9.40          29          118                  4  3.0  4.5   \n",
       "62         327  9.02          63          114                  3  3.0  3.0   \n",
       "140        326  9.11         141          114                  3  3.0  3.0   \n",
       "217        324  9.01         218          111                  4  3.0  3.0   \n",
       "381        325  9.11         382          107                  3  3.0  3.5   \n",
       "\n",
       "     Research  Chance of Admit  \n",
       "28          1             0.91  \n",
       "62          0             0.61  \n",
       "140         1             0.83  \n",
       "217         1             0.82  \n",
       "381         1             0.84  "
      ],
      "text/html": "<div>\n<style scoped>\n    .dataframe tbody tr th:only-of-type {\n        vertical-align: middle;\n    }\n\n    .dataframe tbody tr th {\n        vertical-align: top;\n    }\n\n    .dataframe thead th {\n        text-align: right;\n    }\n</style>\n<table border=\"1\" class=\"dataframe\">\n  <thead>\n    <tr style=\"text-align: right;\">\n      <th></th>\n      <th>GRE Score</th>\n      <th>CGPA</th>\n      <th>Serial No.</th>\n      <th>TOEFL Score</th>\n      <th>University Rating</th>\n      <th>SOP</th>\n      <th>LOR</th>\n      <th>Research</th>\n      <th>Chance of Admit</th>\n    </tr>\n  </thead>\n  <tbody>\n    <tr>\n      <th>28</th>\n      <td>338</td>\n      <td>9.40</td>\n      <td>29</td>\n      <td>118</td>\n      <td>4</td>\n      <td>3.0</td>\n      <td>4.5</td>\n      <td>1</td>\n      <td>0.91</td>\n    </tr>\n    <tr>\n      <th>62</th>\n      <td>327</td>\n      <td>9.02</td>\n      <td>63</td>\n      <td>114</td>\n      <td>3</td>\n      <td>3.0</td>\n      <td>3.0</td>\n      <td>0</td>\n      <td>0.61</td>\n    </tr>\n    <tr>\n      <th>140</th>\n      <td>326</td>\n      <td>9.11</td>\n      <td>141</td>\n      <td>114</td>\n      <td>3</td>\n      <td>3.0</td>\n      <td>3.0</td>\n      <td>1</td>\n      <td>0.83</td>\n    </tr>\n    <tr>\n      <th>217</th>\n      <td>324</td>\n      <td>9.01</td>\n      <td>218</td>\n      <td>111</td>\n      <td>4</td>\n      <td>3.0</td>\n      <td>3.0</td>\n      <td>1</td>\n      <td>0.82</td>\n    </tr>\n    <tr>\n      <th>381</th>\n      <td>325</td>\n      <td>9.11</td>\n      <td>382</td>\n      <td>107</td>\n      <td>3</td>\n      <td>3.0</td>\n      <td>3.5</td>\n      <td>1</td>\n      <td>0.84</td>\n    </tr>\n  </tbody>\n</table>\n</div>"
     },
     "metadata": {},
     "execution_count": 14
    }
   ],
   "source": [
    "# Your code here:\n",
    "admissions[(admissions['CGPA'] > 9) & (admissions['SOP'] < 3.5)]"
   ]
  },
  {
   "cell_type": "code",
   "execution_count": 15,
   "metadata": {},
   "outputs": [
    {
     "output_type": "execute_result",
     "data": {
      "text/plain": [
       "0.802"
      ]
     },
     "metadata": {},
     "execution_count": 15
    }
   ],
   "source": [
    "round(admissions['Chance of Admit'][(admissions['CGPA'] > 9) & (admissions['SOP'] < 3.5)].mean(), 3)"
   ]
  },
  {
   "cell_type": "markdown",
   "metadata": {},
   "source": [
    "We would like to create a deciding factor column for each student. We standardize several columns and then pick the most important factor from a lookup table. If the standardized value is above 0.8, the student will be accepted.\n",
    "\n",
    "We will start by creating a standardized column for `CGPA`, `GRE Score` and `LOR`. We will name these columns `CGPA_std`, `GRE_std`, and `LOR_std` respecively.\n",
    "\n",
    "Recall that standardizing a column is done by subtracting the mean of the column from all observations in the column and then dividing each observation in the column by the column's standard deviation.\n",
    "\n",
    "In the cell below, write a standardization function (a function that takes a column as input and returns a standardized column as output). Make sure to use the `numpy` versions of mean and standard deviation."
   ]
  },
  {
   "cell_type": "code",
   "execution_count": 16,
   "metadata": {},
   "outputs": [],
   "source": [
    "def standardize(col):\n",
    "    # This function takes a column from a dataframe and returns a standardized column by subtracting the column's mean\n",
    "    # and dividing by the column's standard deviation.\n",
    "    \n",
    "    # Your code here:\n",
    "    std = (col - np.mean(col)) / np.std(col)\n",
    "    return(std)"
   ]
  },
  {
   "cell_type": "markdown",
   "metadata": {},
   "source": [
    "Now create the standardized columns `CGPA_std`, `GRE_std`, and `LOR_std` and add them to the `admissions` dataframe."
   ]
  },
  {
   "cell_type": "code",
   "execution_count": 17,
   "metadata": {},
   "outputs": [
    {
     "output_type": "execute_result",
     "data": {
      "text/plain": [
       "   GRE Score  CGPA  Serial No.  TOEFL Score  University Rating  SOP  LOR  \\\n",
       "0        337  9.65           1          118                  4  4.5  4.5   \n",
       "1        316  8.00           2          104                  3  3.0  3.5   \n",
       "2        322  8.67           3          110                  3  3.5  2.5   \n",
       "3        314  8.21           4          103                  2  2.0  3.0   \n",
       "4        330  9.34           5          115                  5  4.5  3.0   \n",
       "\n",
       "   Research  Chance of Admit  CGPA_std   GRE_std   LOR_std  \n",
       "0         1             0.92  1.750174  1.755663  1.193197  \n",
       "1         1             0.72 -0.992501 -0.063450  0.076840  \n",
       "2         1             0.80  0.121191  0.456297 -1.039517  \n",
       "3         0             0.65 -0.643433 -0.236698 -0.481338  \n",
       "4         1             0.90  1.234884  1.149292 -0.481338  "
      ],
      "text/html": "<div>\n<style scoped>\n    .dataframe tbody tr th:only-of-type {\n        vertical-align: middle;\n    }\n\n    .dataframe tbody tr th {\n        vertical-align: top;\n    }\n\n    .dataframe thead th {\n        text-align: right;\n    }\n</style>\n<table border=\"1\" class=\"dataframe\">\n  <thead>\n    <tr style=\"text-align: right;\">\n      <th></th>\n      <th>GRE Score</th>\n      <th>CGPA</th>\n      <th>Serial No.</th>\n      <th>TOEFL Score</th>\n      <th>University Rating</th>\n      <th>SOP</th>\n      <th>LOR</th>\n      <th>Research</th>\n      <th>Chance of Admit</th>\n      <th>CGPA_std</th>\n      <th>GRE_std</th>\n      <th>LOR_std</th>\n    </tr>\n  </thead>\n  <tbody>\n    <tr>\n      <th>0</th>\n      <td>337</td>\n      <td>9.65</td>\n      <td>1</td>\n      <td>118</td>\n      <td>4</td>\n      <td>4.5</td>\n      <td>4.5</td>\n      <td>1</td>\n      <td>0.92</td>\n      <td>1.750174</td>\n      <td>1.755663</td>\n      <td>1.193197</td>\n    </tr>\n    <tr>\n      <th>1</th>\n      <td>316</td>\n      <td>8.00</td>\n      <td>2</td>\n      <td>104</td>\n      <td>3</td>\n      <td>3.0</td>\n      <td>3.5</td>\n      <td>1</td>\n      <td>0.72</td>\n      <td>-0.992501</td>\n      <td>-0.063450</td>\n      <td>0.076840</td>\n    </tr>\n    <tr>\n      <th>2</th>\n      <td>322</td>\n      <td>8.67</td>\n      <td>3</td>\n      <td>110</td>\n      <td>3</td>\n      <td>3.5</td>\n      <td>2.5</td>\n      <td>1</td>\n      <td>0.80</td>\n      <td>0.121191</td>\n      <td>0.456297</td>\n      <td>-1.039517</td>\n    </tr>\n    <tr>\n      <th>3</th>\n      <td>314</td>\n      <td>8.21</td>\n      <td>4</td>\n      <td>103</td>\n      <td>2</td>\n      <td>2.0</td>\n      <td>3.0</td>\n      <td>0</td>\n      <td>0.65</td>\n      <td>-0.643433</td>\n      <td>-0.236698</td>\n      <td>-0.481338</td>\n    </tr>\n    <tr>\n      <th>4</th>\n      <td>330</td>\n      <td>9.34</td>\n      <td>5</td>\n      <td>115</td>\n      <td>5</td>\n      <td>4.5</td>\n      <td>3.0</td>\n      <td>1</td>\n      <td>0.90</td>\n      <td>1.234884</td>\n      <td>1.149292</td>\n      <td>-0.481338</td>\n    </tr>\n  </tbody>\n</table>\n</div>"
     },
     "metadata": {},
     "execution_count": 17
    }
   ],
   "source": [
    "# Your code here:\n",
    "admissions['CGPA_std'] = standardize(admissions['CGPA'])\n",
    "admissions['GRE_std'] = standardize(admissions['GRE Score'])\n",
    "admissions['LOR_std'] = standardize(admissions['LOR'])\n",
    "admissions.head()"
   ]
  },
  {
   "cell_type": "markdown",
   "metadata": {},
   "source": [
    "We will generate the decision choice at random using the code below. Please run the cell."
   ]
  },
  {
   "cell_type": "code",
   "execution_count": 18,
   "metadata": {},
   "outputs": [],
   "source": [
    "# Run this code:\n",
    "\n",
    "from random import choices\n",
    "std_columns = ['CGPA_std', 'GRE_std', 'LOR_std']\n",
    "\n",
    "decision_choice = choices(std_columns, k=admissions.shape[0])"
   ]
  },
  {
   "cell_type": "markdown",
   "metadata": {},
   "source": [
    "Now create the deciding column using the `lookup` function. The lookup column is `decision_choice` found above. Call the column resulting from the lookup function `deciding_column` and add it to the `admissions` dataframe."
   ]
  },
  {
   "cell_type": "code",
   "execution_count": 19,
   "metadata": {},
   "outputs": [
    {
     "output_type": "execute_result",
     "data": {
      "text/plain": [
       "   GRE Score  CGPA  Serial No.  TOEFL Score  University Rating  SOP  LOR  \\\n",
       "0        337  9.65           1          118                  4  4.5  4.5   \n",
       "1        316  8.00           2          104                  3  3.0  3.5   \n",
       "2        322  8.67           3          110                  3  3.5  2.5   \n",
       "3        314  8.21           4          103                  2  2.0  3.0   \n",
       "4        330  9.34           5          115                  5  4.5  3.0   \n",
       "\n",
       "   Research  Chance of Admit  CGPA_std   GRE_std   LOR_std  deciding_column  \n",
       "0         1             0.92  1.750174  1.755663  1.193197         1.193197  \n",
       "1         1             0.72 -0.992501 -0.063450  0.076840        -0.063450  \n",
       "2         1             0.80  0.121191  0.456297 -1.039517         0.456297  \n",
       "3         0             0.65 -0.643433 -0.236698 -0.481338        -0.481338  \n",
       "4         1             0.90  1.234884  1.149292 -0.481338        -0.481338  "
      ],
      "text/html": "<div>\n<style scoped>\n    .dataframe tbody tr th:only-of-type {\n        vertical-align: middle;\n    }\n\n    .dataframe tbody tr th {\n        vertical-align: top;\n    }\n\n    .dataframe thead th {\n        text-align: right;\n    }\n</style>\n<table border=\"1\" class=\"dataframe\">\n  <thead>\n    <tr style=\"text-align: right;\">\n      <th></th>\n      <th>GRE Score</th>\n      <th>CGPA</th>\n      <th>Serial No.</th>\n      <th>TOEFL Score</th>\n      <th>University Rating</th>\n      <th>SOP</th>\n      <th>LOR</th>\n      <th>Research</th>\n      <th>Chance of Admit</th>\n      <th>CGPA_std</th>\n      <th>GRE_std</th>\n      <th>LOR_std</th>\n      <th>deciding_column</th>\n    </tr>\n  </thead>\n  <tbody>\n    <tr>\n      <th>0</th>\n      <td>337</td>\n      <td>9.65</td>\n      <td>1</td>\n      <td>118</td>\n      <td>4</td>\n      <td>4.5</td>\n      <td>4.5</td>\n      <td>1</td>\n      <td>0.92</td>\n      <td>1.750174</td>\n      <td>1.755663</td>\n      <td>1.193197</td>\n      <td>1.193197</td>\n    </tr>\n    <tr>\n      <th>1</th>\n      <td>316</td>\n      <td>8.00</td>\n      <td>2</td>\n      <td>104</td>\n      <td>3</td>\n      <td>3.0</td>\n      <td>3.5</td>\n      <td>1</td>\n      <td>0.72</td>\n      <td>-0.992501</td>\n      <td>-0.063450</td>\n      <td>0.076840</td>\n      <td>-0.063450</td>\n    </tr>\n    <tr>\n      <th>2</th>\n      <td>322</td>\n      <td>8.67</td>\n      <td>3</td>\n      <td>110</td>\n      <td>3</td>\n      <td>3.5</td>\n      <td>2.5</td>\n      <td>1</td>\n      <td>0.80</td>\n      <td>0.121191</td>\n      <td>0.456297</td>\n      <td>-1.039517</td>\n      <td>0.456297</td>\n    </tr>\n    <tr>\n      <th>3</th>\n      <td>314</td>\n      <td>8.21</td>\n      <td>4</td>\n      <td>103</td>\n      <td>2</td>\n      <td>2.0</td>\n      <td>3.0</td>\n      <td>0</td>\n      <td>0.65</td>\n      <td>-0.643433</td>\n      <td>-0.236698</td>\n      <td>-0.481338</td>\n      <td>-0.481338</td>\n    </tr>\n    <tr>\n      <th>4</th>\n      <td>330</td>\n      <td>9.34</td>\n      <td>5</td>\n      <td>115</td>\n      <td>5</td>\n      <td>4.5</td>\n      <td>3.0</td>\n      <td>1</td>\n      <td>0.90</td>\n      <td>1.234884</td>\n      <td>1.149292</td>\n      <td>-0.481338</td>\n      <td>-0.481338</td>\n    </tr>\n  </tbody>\n</table>\n</div>"
     },
     "metadata": {},
     "execution_count": 19
    }
   ],
   "source": [
    "admissions['deciding_column'] = admissions.lookup(admissions.index, decision_choice)\n",
    "admissions.head()"
   ]
  },
  {
   "cell_type": "markdown",
   "metadata": {},
   "source": [
    "Create a column called `decision` in the `admissions` dataframe. Assign 1 to this column if the value of `deciding_column` is greater than 0.8 and 0 otherwise."
   ]
  },
  {
   "cell_type": "code",
   "execution_count": 20,
   "metadata": {},
   "outputs": [
    {
     "output_type": "execute_result",
     "data": {
      "text/plain": [
       "   GRE Score  CGPA  Serial No.  TOEFL Score  University Rating  SOP  LOR  \\\n",
       "0        337  9.65           1          118                  4  4.5  4.5   \n",
       "1        316  8.00           2          104                  3  3.0  3.5   \n",
       "2        322  8.67           3          110                  3  3.5  2.5   \n",
       "3        314  8.21           4          103                  2  2.0  3.0   \n",
       "4        330  9.34           5          115                  5  4.5  3.0   \n",
       "\n",
       "   Research  Chance of Admit  CGPA_std   GRE_std   LOR_std  deciding_column  \\\n",
       "0         1             0.92  1.750174  1.755663  1.193197         1.193197   \n",
       "1         1             0.72 -0.992501 -0.063450  0.076840        -0.063450   \n",
       "2         1             0.80  0.121191  0.456297 -1.039517         0.456297   \n",
       "3         0             0.65 -0.643433 -0.236698 -0.481338        -0.481338   \n",
       "4         1             0.90  1.234884  1.149292 -0.481338        -0.481338   \n",
       "\n",
       "   decision  \n",
       "0         1  \n",
       "1         0  \n",
       "2         0  \n",
       "3         0  \n",
       "4         0  "
      ],
      "text/html": "<div>\n<style scoped>\n    .dataframe tbody tr th:only-of-type {\n        vertical-align: middle;\n    }\n\n    .dataframe tbody tr th {\n        vertical-align: top;\n    }\n\n    .dataframe thead th {\n        text-align: right;\n    }\n</style>\n<table border=\"1\" class=\"dataframe\">\n  <thead>\n    <tr style=\"text-align: right;\">\n      <th></th>\n      <th>GRE Score</th>\n      <th>CGPA</th>\n      <th>Serial No.</th>\n      <th>TOEFL Score</th>\n      <th>University Rating</th>\n      <th>SOP</th>\n      <th>LOR</th>\n      <th>Research</th>\n      <th>Chance of Admit</th>\n      <th>CGPA_std</th>\n      <th>GRE_std</th>\n      <th>LOR_std</th>\n      <th>deciding_column</th>\n      <th>decision</th>\n    </tr>\n  </thead>\n  <tbody>\n    <tr>\n      <th>0</th>\n      <td>337</td>\n      <td>9.65</td>\n      <td>1</td>\n      <td>118</td>\n      <td>4</td>\n      <td>4.5</td>\n      <td>4.5</td>\n      <td>1</td>\n      <td>0.92</td>\n      <td>1.750174</td>\n      <td>1.755663</td>\n      <td>1.193197</td>\n      <td>1.193197</td>\n      <td>1</td>\n    </tr>\n    <tr>\n      <th>1</th>\n      <td>316</td>\n      <td>8.00</td>\n      <td>2</td>\n      <td>104</td>\n      <td>3</td>\n      <td>3.0</td>\n      <td>3.5</td>\n      <td>1</td>\n      <td>0.72</td>\n      <td>-0.992501</td>\n      <td>-0.063450</td>\n      <td>0.076840</td>\n      <td>-0.063450</td>\n      <td>0</td>\n    </tr>\n    <tr>\n      <th>2</th>\n      <td>322</td>\n      <td>8.67</td>\n      <td>3</td>\n      <td>110</td>\n      <td>3</td>\n      <td>3.5</td>\n      <td>2.5</td>\n      <td>1</td>\n      <td>0.80</td>\n      <td>0.121191</td>\n      <td>0.456297</td>\n      <td>-1.039517</td>\n      <td>0.456297</td>\n      <td>0</td>\n    </tr>\n    <tr>\n      <th>3</th>\n      <td>314</td>\n      <td>8.21</td>\n      <td>4</td>\n      <td>103</td>\n      <td>2</td>\n      <td>2.0</td>\n      <td>3.0</td>\n      <td>0</td>\n      <td>0.65</td>\n      <td>-0.643433</td>\n      <td>-0.236698</td>\n      <td>-0.481338</td>\n      <td>-0.481338</td>\n      <td>0</td>\n    </tr>\n    <tr>\n      <th>4</th>\n      <td>330</td>\n      <td>9.34</td>\n      <td>5</td>\n      <td>115</td>\n      <td>5</td>\n      <td>4.5</td>\n      <td>3.0</td>\n      <td>1</td>\n      <td>0.90</td>\n      <td>1.234884</td>\n      <td>1.149292</td>\n      <td>-0.481338</td>\n      <td>-0.481338</td>\n      <td>0</td>\n    </tr>\n  </tbody>\n</table>\n</div>"
     },
     "metadata": {},
     "execution_count": 20
    }
   ],
   "source": [
    "# Your code here:\n",
    "admissions['decision'] = [1 if value > 0.8 else 0 for value in admissions['deciding_column']]\n",
    "admissions.head()"
   ]
  },
  {
   "cell_type": "markdown",
   "metadata": {},
   "source": [
    "How many applicants will be accepted to the program using the decision column? Compute the result below."
   ]
  },
  {
   "cell_type": "code",
   "execution_count": 21,
   "metadata": {},
   "outputs": [
    {
     "output_type": "execute_result",
     "data": {
      "text/plain": [
       "82"
      ]
     },
     "metadata": {},
     "execution_count": 21
    }
   ],
   "source": [
    "# Your code here:\n",
    "(admissions['decision'] == 1).sum()"
   ]
  },
  {
   "cell_type": "markdown",
   "metadata": {},
   "source": [
    "# Challenge 3 - Method Chaining\n",
    "\n",
    "To increase our coding efficiency, let's make a number of changes to our dataframe in one line of code.\n",
    "\n",
    "In the cell below, remove all non character symbols from the column names, replace all spaces in column names to underscores, and change all upper case characters to lower case. Assign these new column values to `admissions.columns`."
   ]
  },
  {
   "cell_type": "code",
   "execution_count": 22,
   "metadata": {},
   "outputs": [
    {
     "output_type": "execute_result",
     "data": {
      "text/plain": [
       "   gre_score  cgpa  serial_no  toefl_score  university_rating  sop  lor  \\\n",
       "0        337  9.65          1          118                  4  4.5  4.5   \n",
       "1        316  8.00          2          104                  3  3.0  3.5   \n",
       "2        322  8.67          3          110                  3  3.5  2.5   \n",
       "3        314  8.21          4          103                  2  2.0  3.0   \n",
       "4        330  9.34          5          115                  5  4.5  3.0   \n",
       "\n",
       "   research  chance_of_admit  cgpa_std   gre_std   lor_std  deciding_column  \\\n",
       "0         1             0.92  1.750174  1.755663  1.193197         1.193197   \n",
       "1         1             0.72 -0.992501 -0.063450  0.076840        -0.063450   \n",
       "2         1             0.80  0.121191  0.456297 -1.039517         0.456297   \n",
       "3         0             0.65 -0.643433 -0.236698 -0.481338        -0.481338   \n",
       "4         1             0.90  1.234884  1.149292 -0.481338        -0.481338   \n",
       "\n",
       "   decision  \n",
       "0         1  \n",
       "1         0  \n",
       "2         0  \n",
       "3         0  \n",
       "4         0  "
      ],
      "text/html": "<div>\n<style scoped>\n    .dataframe tbody tr th:only-of-type {\n        vertical-align: middle;\n    }\n\n    .dataframe tbody tr th {\n        vertical-align: top;\n    }\n\n    .dataframe thead th {\n        text-align: right;\n    }\n</style>\n<table border=\"1\" class=\"dataframe\">\n  <thead>\n    <tr style=\"text-align: right;\">\n      <th></th>\n      <th>gre_score</th>\n      <th>cgpa</th>\n      <th>serial_no</th>\n      <th>toefl_score</th>\n      <th>university_rating</th>\n      <th>sop</th>\n      <th>lor</th>\n      <th>research</th>\n      <th>chance_of_admit</th>\n      <th>cgpa_std</th>\n      <th>gre_std</th>\n      <th>lor_std</th>\n      <th>deciding_column</th>\n      <th>decision</th>\n    </tr>\n  </thead>\n  <tbody>\n    <tr>\n      <th>0</th>\n      <td>337</td>\n      <td>9.65</td>\n      <td>1</td>\n      <td>118</td>\n      <td>4</td>\n      <td>4.5</td>\n      <td>4.5</td>\n      <td>1</td>\n      <td>0.92</td>\n      <td>1.750174</td>\n      <td>1.755663</td>\n      <td>1.193197</td>\n      <td>1.193197</td>\n      <td>1</td>\n    </tr>\n    <tr>\n      <th>1</th>\n      <td>316</td>\n      <td>8.00</td>\n      <td>2</td>\n      <td>104</td>\n      <td>3</td>\n      <td>3.0</td>\n      <td>3.5</td>\n      <td>1</td>\n      <td>0.72</td>\n      <td>-0.992501</td>\n      <td>-0.063450</td>\n      <td>0.076840</td>\n      <td>-0.063450</td>\n      <td>0</td>\n    </tr>\n    <tr>\n      <th>2</th>\n      <td>322</td>\n      <td>8.67</td>\n      <td>3</td>\n      <td>110</td>\n      <td>3</td>\n      <td>3.5</td>\n      <td>2.5</td>\n      <td>1</td>\n      <td>0.80</td>\n      <td>0.121191</td>\n      <td>0.456297</td>\n      <td>-1.039517</td>\n      <td>0.456297</td>\n      <td>0</td>\n    </tr>\n    <tr>\n      <th>3</th>\n      <td>314</td>\n      <td>8.21</td>\n      <td>4</td>\n      <td>103</td>\n      <td>2</td>\n      <td>2.0</td>\n      <td>3.0</td>\n      <td>0</td>\n      <td>0.65</td>\n      <td>-0.643433</td>\n      <td>-0.236698</td>\n      <td>-0.481338</td>\n      <td>-0.481338</td>\n      <td>0</td>\n    </tr>\n    <tr>\n      <th>4</th>\n      <td>330</td>\n      <td>9.34</td>\n      <td>5</td>\n      <td>115</td>\n      <td>5</td>\n      <td>4.5</td>\n      <td>3.0</td>\n      <td>1</td>\n      <td>0.90</td>\n      <td>1.234884</td>\n      <td>1.149292</td>\n      <td>-0.481338</td>\n      <td>-0.481338</td>\n      <td>0</td>\n    </tr>\n  </tbody>\n</table>\n</div>"
     },
     "metadata": {},
     "execution_count": 22
    }
   ],
   "source": [
    "# Your code here:\n",
    "admissions.columns = admissions.columns.str.replace('\\W$','').str.replace('\\s','_').str.lower()\n",
    "admissions.head()"
   ]
  },
  {
   "cell_type": "markdown",
   "metadata": {},
   "source": [
    "In the cell below, give all student with a university rating of 4 or higher a 10 point boost on their GRE score and split the column into 4 bins using the `cut` function. Assign this new score to the variable `adjusted_gre`."
   ]
  },
  {
   "cell_type": "code",
   "execution_count": 23,
   "metadata": {},
   "outputs": [
    {
     "output_type": "execute_result",
     "data": {
      "text/plain": [
       "   gre_score  adjusted_gre  cgpa  serial_no  toefl_score  university_rating  \\\n",
       "0        337           347  9.65          1          118                  4   \n",
       "1        316           316  8.00          2          104                  3   \n",
       "2        322           322  8.67          3          110                  3   \n",
       "3        314           314  8.21          4          103                  2   \n",
       "4        330           340  9.34          5          115                  5   \n",
       "\n",
       "   sop  lor  research  chance_of_admit  cgpa_std   gre_std   lor_std  \\\n",
       "0  4.5  4.5         1             0.92  1.750174  1.755663  1.193197   \n",
       "1  3.0  3.5         1             0.72 -0.992501 -0.063450  0.076840   \n",
       "2  3.5  2.5         1             0.80  0.121191  0.456297 -1.039517   \n",
       "3  2.0  3.0         0             0.65 -0.643433 -0.236698 -0.481338   \n",
       "4  4.5  3.0         1             0.90  1.234884  1.149292 -0.481338   \n",
       "\n",
       "   deciding_column  decision  \n",
       "0         1.193197         1  \n",
       "1        -0.063450         0  \n",
       "2         0.456297         0  \n",
       "3        -0.481338         0  \n",
       "4        -0.481338         0  "
      ],
      "text/html": "<div>\n<style scoped>\n    .dataframe tbody tr th:only-of-type {\n        vertical-align: middle;\n    }\n\n    .dataframe tbody tr th {\n        vertical-align: top;\n    }\n\n    .dataframe thead th {\n        text-align: right;\n    }\n</style>\n<table border=\"1\" class=\"dataframe\">\n  <thead>\n    <tr style=\"text-align: right;\">\n      <th></th>\n      <th>gre_score</th>\n      <th>adjusted_gre</th>\n      <th>cgpa</th>\n      <th>serial_no</th>\n      <th>toefl_score</th>\n      <th>university_rating</th>\n      <th>sop</th>\n      <th>lor</th>\n      <th>research</th>\n      <th>chance_of_admit</th>\n      <th>cgpa_std</th>\n      <th>gre_std</th>\n      <th>lor_std</th>\n      <th>deciding_column</th>\n      <th>decision</th>\n    </tr>\n  </thead>\n  <tbody>\n    <tr>\n      <th>0</th>\n      <td>337</td>\n      <td>347</td>\n      <td>9.65</td>\n      <td>1</td>\n      <td>118</td>\n      <td>4</td>\n      <td>4.5</td>\n      <td>4.5</td>\n      <td>1</td>\n      <td>0.92</td>\n      <td>1.750174</td>\n      <td>1.755663</td>\n      <td>1.193197</td>\n      <td>1.193197</td>\n      <td>1</td>\n    </tr>\n    <tr>\n      <th>1</th>\n      <td>316</td>\n      <td>316</td>\n      <td>8.00</td>\n      <td>2</td>\n      <td>104</td>\n      <td>3</td>\n      <td>3.0</td>\n      <td>3.5</td>\n      <td>1</td>\n      <td>0.72</td>\n      <td>-0.992501</td>\n      <td>-0.063450</td>\n      <td>0.076840</td>\n      <td>-0.063450</td>\n      <td>0</td>\n    </tr>\n    <tr>\n      <th>2</th>\n      <td>322</td>\n      <td>322</td>\n      <td>8.67</td>\n      <td>3</td>\n      <td>110</td>\n      <td>3</td>\n      <td>3.5</td>\n      <td>2.5</td>\n      <td>1</td>\n      <td>0.80</td>\n      <td>0.121191</td>\n      <td>0.456297</td>\n      <td>-1.039517</td>\n      <td>0.456297</td>\n      <td>0</td>\n    </tr>\n    <tr>\n      <th>3</th>\n      <td>314</td>\n      <td>314</td>\n      <td>8.21</td>\n      <td>4</td>\n      <td>103</td>\n      <td>2</td>\n      <td>2.0</td>\n      <td>3.0</td>\n      <td>0</td>\n      <td>0.65</td>\n      <td>-0.643433</td>\n      <td>-0.236698</td>\n      <td>-0.481338</td>\n      <td>-0.481338</td>\n      <td>0</td>\n    </tr>\n    <tr>\n      <th>4</th>\n      <td>330</td>\n      <td>340</td>\n      <td>9.34</td>\n      <td>5</td>\n      <td>115</td>\n      <td>5</td>\n      <td>4.5</td>\n      <td>3.0</td>\n      <td>1</td>\n      <td>0.90</td>\n      <td>1.234884</td>\n      <td>1.149292</td>\n      <td>-0.481338</td>\n      <td>-0.481338</td>\n      <td>0</td>\n    </tr>\n  </tbody>\n</table>\n</div>"
     },
     "metadata": {},
     "execution_count": 23
    }
   ],
   "source": [
    "# Your code here:\n",
    "admissions.insert(loc=1, column='adjusted_gre', value=np.where(admissions['university_rating'] >= 4, admissions['gre_score'].apply(lambda x: x + 10), admissions['gre_score']))\n",
    "admissions.head()"
   ]
  },
  {
   "cell_type": "code",
   "execution_count": 24,
   "metadata": {},
   "outputs": [
    {
     "output_type": "execute_result",
     "data": {
      "text/plain": [
       "   gre_score  adjusted_gre value_adjusted_gre  cgpa  serial_no  toefl_score  \\\n",
       "0        337           347                  D  9.65          1          118   \n",
       "1        316           316                  B  8.00          2          104   \n",
       "2        322           322                  C  8.67          3          110   \n",
       "3        314           314                  B  8.21          4          103   \n",
       "4        330           340                  D  9.34          5          115   \n",
       "\n",
       "   university_rating  sop  lor  research  chance_of_admit  cgpa_std   gre_std  \\\n",
       "0                  4  4.5  4.5         1             0.92  1.750174  1.755663   \n",
       "1                  3  3.0  3.5         1             0.72 -0.992501 -0.063450   \n",
       "2                  3  3.5  2.5         1             0.80  0.121191  0.456297   \n",
       "3                  2  2.0  3.0         0             0.65 -0.643433 -0.236698   \n",
       "4                  5  4.5  3.0         1             0.90  1.234884  1.149292   \n",
       "\n",
       "    lor_std  deciding_column  decision  \n",
       "0  1.193197         1.193197         1  \n",
       "1  0.076840        -0.063450         0  \n",
       "2 -1.039517         0.456297         0  \n",
       "3 -0.481338        -0.481338         0  \n",
       "4 -0.481338        -0.481338         0  "
      ],
      "text/html": "<div>\n<style scoped>\n    .dataframe tbody tr th:only-of-type {\n        vertical-align: middle;\n    }\n\n    .dataframe tbody tr th {\n        vertical-align: top;\n    }\n\n    .dataframe thead th {\n        text-align: right;\n    }\n</style>\n<table border=\"1\" class=\"dataframe\">\n  <thead>\n    <tr style=\"text-align: right;\">\n      <th></th>\n      <th>gre_score</th>\n      <th>adjusted_gre</th>\n      <th>value_adjusted_gre</th>\n      <th>cgpa</th>\n      <th>serial_no</th>\n      <th>toefl_score</th>\n      <th>university_rating</th>\n      <th>sop</th>\n      <th>lor</th>\n      <th>research</th>\n      <th>chance_of_admit</th>\n      <th>cgpa_std</th>\n      <th>gre_std</th>\n      <th>lor_std</th>\n      <th>deciding_column</th>\n      <th>decision</th>\n    </tr>\n  </thead>\n  <tbody>\n    <tr>\n      <th>0</th>\n      <td>337</td>\n      <td>347</td>\n      <td>D</td>\n      <td>9.65</td>\n      <td>1</td>\n      <td>118</td>\n      <td>4</td>\n      <td>4.5</td>\n      <td>4.5</td>\n      <td>1</td>\n      <td>0.92</td>\n      <td>1.750174</td>\n      <td>1.755663</td>\n      <td>1.193197</td>\n      <td>1.193197</td>\n      <td>1</td>\n    </tr>\n    <tr>\n      <th>1</th>\n      <td>316</td>\n      <td>316</td>\n      <td>B</td>\n      <td>8.00</td>\n      <td>2</td>\n      <td>104</td>\n      <td>3</td>\n      <td>3.0</td>\n      <td>3.5</td>\n      <td>1</td>\n      <td>0.72</td>\n      <td>-0.992501</td>\n      <td>-0.063450</td>\n      <td>0.076840</td>\n      <td>-0.063450</td>\n      <td>0</td>\n    </tr>\n    <tr>\n      <th>2</th>\n      <td>322</td>\n      <td>322</td>\n      <td>C</td>\n      <td>8.67</td>\n      <td>3</td>\n      <td>110</td>\n      <td>3</td>\n      <td>3.5</td>\n      <td>2.5</td>\n      <td>1</td>\n      <td>0.80</td>\n      <td>0.121191</td>\n      <td>0.456297</td>\n      <td>-1.039517</td>\n      <td>0.456297</td>\n      <td>0</td>\n    </tr>\n    <tr>\n      <th>3</th>\n      <td>314</td>\n      <td>314</td>\n      <td>B</td>\n      <td>8.21</td>\n      <td>4</td>\n      <td>103</td>\n      <td>2</td>\n      <td>2.0</td>\n      <td>3.0</td>\n      <td>0</td>\n      <td>0.65</td>\n      <td>-0.643433</td>\n      <td>-0.236698</td>\n      <td>-0.481338</td>\n      <td>-0.481338</td>\n      <td>0</td>\n    </tr>\n    <tr>\n      <th>4</th>\n      <td>330</td>\n      <td>340</td>\n      <td>D</td>\n      <td>9.34</td>\n      <td>5</td>\n      <td>115</td>\n      <td>5</td>\n      <td>4.5</td>\n      <td>3.0</td>\n      <td>1</td>\n      <td>0.90</td>\n      <td>1.234884</td>\n      <td>1.149292</td>\n      <td>-0.481338</td>\n      <td>-0.481338</td>\n      <td>0</td>\n    </tr>\n  </tbody>\n</table>\n</div>"
     },
     "metadata": {},
     "execution_count": 24
    }
   ],
   "source": [
    "admissions.insert(loc=2, column='value_adjusted_gre', value=pd.cut(admissions['adjusted_gre'], bins=4, labels=['A','B','C','D']))\n",
    "admissions.head()"
   ]
  }
 ],
 "metadata": {
  "kernelspec": {
   "name": "python385jvsc74a57bd0dca0ade3e726a953b501b15e8e990130d2b7799f14cfd9f4271676035ebe5511",
   "display_name": "Python 3.8.5 64-bit ('base': conda)"
  },
  "language_info": {
   "codemirror_mode": {
    "name": "ipython",
    "version": 3
   },
   "file_extension": ".py",
   "mimetype": "text/x-python",
   "name": "python",
   "nbconvert_exporter": "python",
   "pygments_lexer": "ipython3",
   "version": "3.8.5-final"
  },
  "latex_envs": {
   "LaTeX_envs_menu_present": true,
   "autoclose": false,
   "autocomplete": true,
   "bibliofile": "biblio.bib",
   "cite_by": "apalike",
   "current_citInitial": 1,
   "eqLabelWithNumbers": true,
   "eqNumInitial": 1,
   "hotkeys": {
    "equation": "Ctrl-E",
    "itemize": "Ctrl-I"
   },
   "labels_anchors": false,
   "latex_user_defs": false,
   "report_style_numbering": false,
   "user_envs_cfg": false
  },
  "toc": {
   "base_numbering": 1,
   "nav_menu": {},
   "number_sections": true,
   "sideBar": true,
   "skip_h1_title": false,
   "title_cell": "Table of Contents",
   "title_sidebar": "Contents",
   "toc_cell": true,
   "toc_position": {},
   "toc_section_display": true,
   "toc_window_display": false
  },
  "varInspector": {
   "cols": {
    "lenName": 16,
    "lenType": 16,
    "lenVar": 40
   },
   "kernels_config": {
    "python": {
     "delete_cmd_postfix": "",
     "delete_cmd_prefix": "del ",
     "library": "var_list.py",
     "varRefreshCmd": "print(var_dic_list())"
    },
    "r": {
     "delete_cmd_postfix": ") ",
     "delete_cmd_prefix": "rm(",
     "library": "var_list.r",
     "varRefreshCmd": "cat(var_dic_list()) "
    }
   },
   "types_to_exclude": [
    "module",
    "function",
    "builtin_function_or_method",
    "instance",
    "_Feature"
   ],
   "window_display": false
  }
 },
 "nbformat": 4,
 "nbformat_minor": 2
}