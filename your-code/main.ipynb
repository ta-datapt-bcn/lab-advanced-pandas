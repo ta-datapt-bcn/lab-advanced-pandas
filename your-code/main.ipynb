{
 "cells": [
  {
   "cell_type": "markdown",
   "metadata": {
    "toc": true
   },
   "source": [
    "<h1>Table of Contents<span class=\"tocSkip\"></span></h1>\n",
    "<div class=\"toc\"><ul class=\"toc-item\"><li><span><a href=\"#Before-your-start:\" data-toc-modified-id=\"Before-your-start:-1\"><span class=\"toc-item-num\">1&nbsp;&nbsp;</span>Before your start:</a></span></li><li><span><a href=\"#Challenge-1---Index-Functions\" data-toc-modified-id=\"Challenge-1---Index-Functions-2\"><span class=\"toc-item-num\">2&nbsp;&nbsp;</span>Challenge 1 - Index Functions</a></span></li><li><span><a href=\"#Challenge-2---Advanced-Functions\" data-toc-modified-id=\"Challenge-2---Advanced-Functions-3\"><span class=\"toc-item-num\">3&nbsp;&nbsp;</span>Challenge 2 - Advanced Functions</a></span></li><li><span><a href=\"#Challenge-3---Method-Chaining\" data-toc-modified-id=\"Challenge-3---Method-Chaining-4\"><span class=\"toc-item-num\">4&nbsp;&nbsp;</span>Challenge 3 - Method Chaining</a></span></li></ul></div>"
   ]
  },
  {
   "cell_type": "markdown",
   "metadata": {},
   "source": [
    "# Before your start:\n",
    "- Read the README.md file\n",
    "- Comment as much as you can and use the resources (README.md file)\n",
    "- Happy learning!"
   ]
  },
  {
   "cell_type": "code",
   "execution_count": 1,
   "metadata": {},
   "outputs": [],
   "source": [
    "# import numpy and pandas\n",
    "\n",
    "import pandas as pd\n",
    "import numpy as np"
   ]
  },
  {
   "cell_type": "markdown",
   "metadata": {},
   "source": [
    "# Challenge 1 - Index Functions\n",
    "\n",
    "In this challenge, we will practice the advanced functions introduced in the lesson. However, before we start, we will load and evaluate our dataset."
   ]
  },
  {
   "cell_type": "code",
   "execution_count": 2,
   "metadata": {},
   "outputs": [],
   "source": [
    "# Run this code:\n",
    "\n",
    "admissions = pd.read_csv('../Admission_Predict.csv')\n",
    "\n",
    "#to remove trailing spaces at the end of the column names\n",
    "\n",
    "admissions.columns = admissions.columns.str.rstrip()"
   ]
  },
  {
   "cell_type": "markdown",
   "metadata": {},
   "source": [
    "Let's evaluate the dataset by looking at the `head` function."
   ]
  },
  {
   "cell_type": "code",
   "execution_count": 3,
   "metadata": {},
   "outputs": [
    {
     "output_type": "execute_result",
     "data": {
      "text/plain": [
       "   Serial No.  GRE Score  TOEFL Score  University Rating  SOP  LOR  CGPA  \\\n",
       "0           1        337          118                  4  4.5  4.5  9.65   \n",
       "1           2        316          104                  3  3.0  3.5  8.00   \n",
       "2           3        322          110                  3  3.5  2.5  8.67   \n",
       "3           4        314          103                  2  2.0  3.0  8.21   \n",
       "4           5        330          115                  5  4.5  3.0  9.34   \n",
       "\n",
       "   Research  Chance of Admit  \n",
       "0         1             0.92  \n",
       "1         1             0.72  \n",
       "2         1             0.80  \n",
       "3         0             0.65  \n",
       "4         1             0.90  "
      ],
      "text/html": "<div>\n<style scoped>\n    .dataframe tbody tr th:only-of-type {\n        vertical-align: middle;\n    }\n\n    .dataframe tbody tr th {\n        vertical-align: top;\n    }\n\n    .dataframe thead th {\n        text-align: right;\n    }\n</style>\n<table border=\"1\" class=\"dataframe\">\n  <thead>\n    <tr style=\"text-align: right;\">\n      <th></th>\n      <th>Serial No.</th>\n      <th>GRE Score</th>\n      <th>TOEFL Score</th>\n      <th>University Rating</th>\n      <th>SOP</th>\n      <th>LOR</th>\n      <th>CGPA</th>\n      <th>Research</th>\n      <th>Chance of Admit</th>\n    </tr>\n  </thead>\n  <tbody>\n    <tr>\n      <th>0</th>\n      <td>1</td>\n      <td>337</td>\n      <td>118</td>\n      <td>4</td>\n      <td>4.5</td>\n      <td>4.5</td>\n      <td>9.65</td>\n      <td>1</td>\n      <td>0.92</td>\n    </tr>\n    <tr>\n      <th>1</th>\n      <td>2</td>\n      <td>316</td>\n      <td>104</td>\n      <td>3</td>\n      <td>3.0</td>\n      <td>3.5</td>\n      <td>8.00</td>\n      <td>1</td>\n      <td>0.72</td>\n    </tr>\n    <tr>\n      <th>2</th>\n      <td>3</td>\n      <td>322</td>\n      <td>110</td>\n      <td>3</td>\n      <td>3.5</td>\n      <td>2.5</td>\n      <td>8.67</td>\n      <td>1</td>\n      <td>0.80</td>\n    </tr>\n    <tr>\n      <th>3</th>\n      <td>4</td>\n      <td>314</td>\n      <td>103</td>\n      <td>2</td>\n      <td>2.0</td>\n      <td>3.0</td>\n      <td>8.21</td>\n      <td>0</td>\n      <td>0.65</td>\n    </tr>\n    <tr>\n      <th>4</th>\n      <td>5</td>\n      <td>330</td>\n      <td>115</td>\n      <td>5</td>\n      <td>4.5</td>\n      <td>3.0</td>\n      <td>9.34</td>\n      <td>1</td>\n      <td>0.90</td>\n    </tr>\n  </tbody>\n</table>\n</div>"
     },
     "metadata": {},
     "execution_count": 3
    }
   ],
   "source": [
    "# Call head function\n",
    "\n",
    "admissions.head()"
   ]
  },
  {
   "cell_type": "markdown",
   "metadata": {},
   "source": [
    "Before beginning to work with this dataset and evaluating graduate admissions data, we will verify that there is no missing data in the dataset. Do this in the cell below."
   ]
  },
  {
   "cell_type": "code",
   "execution_count": 4,
   "metadata": {},
   "outputs": [
    {
     "output_type": "execute_result",
     "data": {
      "text/plain": [
       "Serial No.           0\n",
       "GRE Score            0\n",
       "TOEFL Score          0\n",
       "University Rating    0\n",
       "SOP                  0\n",
       "LOR                  0\n",
       "CGPA                 0\n",
       "Research             0\n",
       "Chance of Admit      0\n",
       "dtype: int64"
      ]
     },
     "metadata": {},
     "execution_count": 4
    }
   ],
   "source": [
    "# Look for null by columns\n",
    "\n",
    "admissions.isnull().sum()"
   ]
  },
  {
   "cell_type": "markdown",
   "metadata": {},
   "source": [
    "Interestingly, there is a column that uniquely identifies the applicants. This column is the serial number column. Instead of having our own index, we should make this column our index. Do this in the cell below. Keep the column in the dataframe in addition to making it an index."
   ]
  },
  {
   "cell_type": "code",
   "execution_count": 5,
   "metadata": {},
   "outputs": [
    {
     "output_type": "execute_result",
     "data": {
      "text/plain": [
       "            GRE Score  TOEFL Score  University Rating  SOP  LOR  CGPA  \\\n",
       "Serial No.                                                              \n",
       "1                 337          118                  4  4.5  4.5  9.65   \n",
       "2                 316          104                  3  3.0  3.5  8.00   \n",
       "3                 322          110                  3  3.5  2.5  8.67   \n",
       "4                 314          103                  2  2.0  3.0  8.21   \n",
       "5                 330          115                  5  4.5  3.0  9.34   \n",
       "\n",
       "            Research  Chance of Admit  \n",
       "Serial No.                             \n",
       "1                  1             0.92  \n",
       "2                  1             0.72  \n",
       "3                  1             0.80  \n",
       "4                  0             0.65  \n",
       "5                  1             0.90  "
      ],
      "text/html": "<div>\n<style scoped>\n    .dataframe tbody tr th:only-of-type {\n        vertical-align: middle;\n    }\n\n    .dataframe tbody tr th {\n        vertical-align: top;\n    }\n\n    .dataframe thead th {\n        text-align: right;\n    }\n</style>\n<table border=\"1\" class=\"dataframe\">\n  <thead>\n    <tr style=\"text-align: right;\">\n      <th></th>\n      <th>GRE Score</th>\n      <th>TOEFL Score</th>\n      <th>University Rating</th>\n      <th>SOP</th>\n      <th>LOR</th>\n      <th>CGPA</th>\n      <th>Research</th>\n      <th>Chance of Admit</th>\n    </tr>\n    <tr>\n      <th>Serial No.</th>\n      <th></th>\n      <th></th>\n      <th></th>\n      <th></th>\n      <th></th>\n      <th></th>\n      <th></th>\n      <th></th>\n    </tr>\n  </thead>\n  <tbody>\n    <tr>\n      <th>1</th>\n      <td>337</td>\n      <td>118</td>\n      <td>4</td>\n      <td>4.5</td>\n      <td>4.5</td>\n      <td>9.65</td>\n      <td>1</td>\n      <td>0.92</td>\n    </tr>\n    <tr>\n      <th>2</th>\n      <td>316</td>\n      <td>104</td>\n      <td>3</td>\n      <td>3.0</td>\n      <td>3.5</td>\n      <td>8.00</td>\n      <td>1</td>\n      <td>0.72</td>\n    </tr>\n    <tr>\n      <th>3</th>\n      <td>322</td>\n      <td>110</td>\n      <td>3</td>\n      <td>3.5</td>\n      <td>2.5</td>\n      <td>8.67</td>\n      <td>1</td>\n      <td>0.80</td>\n    </tr>\n    <tr>\n      <th>4</th>\n      <td>314</td>\n      <td>103</td>\n      <td>2</td>\n      <td>2.0</td>\n      <td>3.0</td>\n      <td>8.21</td>\n      <td>0</td>\n      <td>0.65</td>\n    </tr>\n    <tr>\n      <th>5</th>\n      <td>330</td>\n      <td>115</td>\n      <td>5</td>\n      <td>4.5</td>\n      <td>3.0</td>\n      <td>9.34</td>\n      <td>1</td>\n      <td>0.90</td>\n    </tr>\n  </tbody>\n</table>\n</div>"
     },
     "metadata": {},
     "execution_count": 5
    }
   ],
   "source": [
    "# Use funciton set_index\n",
    "\n",
    "admissions.set_index('Serial No.', inplace=True)\n",
    "admissions.head()"
   ]
  },
  {
   "cell_type": "markdown",
   "metadata": {},
   "source": [
    "Turns out that `GRE Score` and `CGPA` also uniquely identify the data. Show this in the cell below."
   ]
  },
  {
   "cell_type": "code",
   "execution_count": 6,
   "metadata": {},
   "outputs": [
    {
     "output_type": "execute_result",
     "data": {
      "text/plain": [
       "True"
      ]
     },
     "metadata": {},
     "execution_count": 6
    }
   ],
   "source": [
    "# Compare if the length of de DataFrame is equal to the length of the value_counts of both columns\n",
    "# If the index was repeated, length would be different\n",
    "\n",
    "len(admissions) == len(admissions[['GRE Score','CGPA']].value_counts())"
   ]
  },
  {
   "cell_type": "markdown",
   "metadata": {},
   "source": [
    "Replace the index with an index comprised of two columns - `GRE Score` and `CGPA`. Remove the columns from the dataset as well. Make sure to use `inplace=True`."
   ]
  },
  {
   "cell_type": "code",
   "execution_count": 7,
   "metadata": {},
   "outputs": [
    {
     "output_type": "execute_result",
     "data": {
      "text/plain": [
       "                TOEFL Score  University Rating  SOP  LOR  Research  \\\n",
       "GRE Score CGPA                                                       \n",
       "337       9.65          118                  4  4.5  4.5         1   \n",
       "316       8.00          104                  3  3.0  3.5         1   \n",
       "322       8.67          110                  3  3.5  2.5         1   \n",
       "314       8.21          103                  2  2.0  3.0         0   \n",
       "330       9.34          115                  5  4.5  3.0         1   \n",
       "\n",
       "                Chance of Admit  \n",
       "GRE Score CGPA                   \n",
       "337       9.65             0.92  \n",
       "316       8.00             0.72  \n",
       "322       8.67             0.80  \n",
       "314       8.21             0.65  \n",
       "330       9.34             0.90  "
      ],
      "text/html": "<div>\n<style scoped>\n    .dataframe tbody tr th:only-of-type {\n        vertical-align: middle;\n    }\n\n    .dataframe tbody tr th {\n        vertical-align: top;\n    }\n\n    .dataframe thead th {\n        text-align: right;\n    }\n</style>\n<table border=\"1\" class=\"dataframe\">\n  <thead>\n    <tr style=\"text-align: right;\">\n      <th></th>\n      <th></th>\n      <th>TOEFL Score</th>\n      <th>University Rating</th>\n      <th>SOP</th>\n      <th>LOR</th>\n      <th>Research</th>\n      <th>Chance of Admit</th>\n    </tr>\n    <tr>\n      <th>GRE Score</th>\n      <th>CGPA</th>\n      <th></th>\n      <th></th>\n      <th></th>\n      <th></th>\n      <th></th>\n      <th></th>\n    </tr>\n  </thead>\n  <tbody>\n    <tr>\n      <th>337</th>\n      <th>9.65</th>\n      <td>118</td>\n      <td>4</td>\n      <td>4.5</td>\n      <td>4.5</td>\n      <td>1</td>\n      <td>0.92</td>\n    </tr>\n    <tr>\n      <th>316</th>\n      <th>8.00</th>\n      <td>104</td>\n      <td>3</td>\n      <td>3.0</td>\n      <td>3.5</td>\n      <td>1</td>\n      <td>0.72</td>\n    </tr>\n    <tr>\n      <th>322</th>\n      <th>8.67</th>\n      <td>110</td>\n      <td>3</td>\n      <td>3.5</td>\n      <td>2.5</td>\n      <td>1</td>\n      <td>0.80</td>\n    </tr>\n    <tr>\n      <th>314</th>\n      <th>8.21</th>\n      <td>103</td>\n      <td>2</td>\n      <td>2.0</td>\n      <td>3.0</td>\n      <td>0</td>\n      <td>0.65</td>\n    </tr>\n    <tr>\n      <th>330</th>\n      <th>9.34</th>\n      <td>115</td>\n      <td>5</td>\n      <td>4.5</td>\n      <td>3.0</td>\n      <td>1</td>\n      <td>0.90</td>\n    </tr>\n  </tbody>\n</table>\n</div>"
     },
     "metadata": {},
     "execution_count": 7
    }
   ],
   "source": [
    "# Use funciton set_index\n",
    "# Columns will be removed as it has rome=True as default\n",
    "\n",
    "admissions.set_index(['GRE Score','CGPA'], inplace=True)\n",
    "admissions.head()"
   ]
  },
  {
   "cell_type": "markdown",
   "metadata": {},
   "source": [
    "Now change the index back to a sequence starting at zero using the `reset_index` function. Make sure to use `inplace=True`."
   ]
  },
  {
   "cell_type": "code",
   "execution_count": 8,
   "metadata": {},
   "outputs": [
    {
     "output_type": "execute_result",
     "data": {
      "text/plain": [
       "   GRE Score  CGPA  TOEFL Score  University Rating  SOP  LOR  Research  \\\n",
       "0        337  9.65          118                  4  4.5  4.5         1   \n",
       "1        316  8.00          104                  3  3.0  3.5         1   \n",
       "2        322  8.67          110                  3  3.5  2.5         1   \n",
       "3        314  8.21          103                  2  2.0  3.0         0   \n",
       "4        330  9.34          115                  5  4.5  3.0         1   \n",
       "\n",
       "   Chance of Admit  \n",
       "0             0.92  \n",
       "1             0.72  \n",
       "2             0.80  \n",
       "3             0.65  \n",
       "4             0.90  "
      ],
      "text/html": "<div>\n<style scoped>\n    .dataframe tbody tr th:only-of-type {\n        vertical-align: middle;\n    }\n\n    .dataframe tbody tr th {\n        vertical-align: top;\n    }\n\n    .dataframe thead th {\n        text-align: right;\n    }\n</style>\n<table border=\"1\" class=\"dataframe\">\n  <thead>\n    <tr style=\"text-align: right;\">\n      <th></th>\n      <th>GRE Score</th>\n      <th>CGPA</th>\n      <th>TOEFL Score</th>\n      <th>University Rating</th>\n      <th>SOP</th>\n      <th>LOR</th>\n      <th>Research</th>\n      <th>Chance of Admit</th>\n    </tr>\n  </thead>\n  <tbody>\n    <tr>\n      <th>0</th>\n      <td>337</td>\n      <td>9.65</td>\n      <td>118</td>\n      <td>4</td>\n      <td>4.5</td>\n      <td>4.5</td>\n      <td>1</td>\n      <td>0.92</td>\n    </tr>\n    <tr>\n      <th>1</th>\n      <td>316</td>\n      <td>8.00</td>\n      <td>104</td>\n      <td>3</td>\n      <td>3.0</td>\n      <td>3.5</td>\n      <td>1</td>\n      <td>0.72</td>\n    </tr>\n    <tr>\n      <th>2</th>\n      <td>322</td>\n      <td>8.67</td>\n      <td>110</td>\n      <td>3</td>\n      <td>3.5</td>\n      <td>2.5</td>\n      <td>1</td>\n      <td>0.80</td>\n    </tr>\n    <tr>\n      <th>3</th>\n      <td>314</td>\n      <td>8.21</td>\n      <td>103</td>\n      <td>2</td>\n      <td>2.0</td>\n      <td>3.0</td>\n      <td>0</td>\n      <td>0.65</td>\n    </tr>\n    <tr>\n      <th>4</th>\n      <td>330</td>\n      <td>9.34</td>\n      <td>115</td>\n      <td>5</td>\n      <td>4.5</td>\n      <td>3.0</td>\n      <td>1</td>\n      <td>0.90</td>\n    </tr>\n  </tbody>\n</table>\n</div>"
     },
     "metadata": {},
     "execution_count": 8
    }
   ],
   "source": [
    "# Use funciton set_index\n",
    "\n",
    "admissions.reset_index(inplace=True)\n",
    "admissions.head()"
   ]
  },
  {
   "cell_type": "markdown",
   "metadata": {},
   "source": [
    "# Challenge 2 - Advanced Functions\n",
    "\n",
    "In this part of the lab, we would like to test complex conditions on the entire dataset at once. Let's start by finding the number of rows where the CGPA is higher than 9 and the student has conducted research."
   ]
  },
  {
   "cell_type": "code",
   "execution_count": 9,
   "metadata": {},
   "outputs": [
    {
     "output_type": "execute_result",
     "data": {
      "text/plain": [
       "101"
      ]
     },
     "metadata": {},
     "execution_count": 9
    }
   ],
   "source": [
    "# len to find number of rows\n",
    "# indicate DataFrame admissions with conditions inside squared brackets\n",
    "\n",
    "len(admissions[(admissions['CGPA'] > 9) & (admissions['Research'] == 1) ])"
   ]
  },
  {
   "cell_type": "markdown",
   "metadata": {},
   "source": [
    "Now return all the rows where the CGPA is greater than 9 and the SOP score is less than 3.5. Find the mean chance of admit for these applicants."
   ]
  },
  {
   "cell_type": "code",
   "execution_count": 10,
   "metadata": {},
   "outputs": [
    {
     "output_type": "execute_result",
     "data": {
      "text/plain": [
       "0.8019999999999999"
      ]
     },
     "metadata": {},
     "execution_count": 10
    }
   ],
   "source": [
    "# indicate DataFrame admissions with conditions inside squared brackets\n",
    "# indicate the column of interest\n",
    "# use function mean()\n",
    "\n",
    "admissions[(admissions['CGPA'] > 9) & (admissions['SOP'] < 3.5)]['Chance of Admit'].mean()"
   ]
  },
  {
   "cell_type": "markdown",
   "metadata": {},
   "source": [
    "We would like to create a deciding factor column for each student. We standardize several columns and then pick the most important factor from a lookup table. If the standardized value is above 0.8, the student will be accepted.\n",
    "\n",
    "We will start by creating a standardized column for `CGPA`, `GRE Score` and `LOR`. We will name these columns `CGPA_std`, `GRE_std`, and `LOR_std` respecively.\n",
    "\n",
    "Recall that standardizing a column is done by subtracting the mean of the column from all observations in the column and then dividing each observation in the column by the column's standard deviation.\n",
    "\n",
    "In the cell below, write a standardization function (a function that takes a column as input and returns a standardized column as output). Make sure to use the `numpy` versions of mean and standard deviation."
   ]
  },
  {
   "cell_type": "code",
   "execution_count": 11,
   "metadata": {},
   "outputs": [],
   "source": [
    "def standardize(col):\n",
    "    # This function takes a column from a dataframe and returns a standardized column by subtracting the column's mean\n",
    "    # and dividing by the column's standard deviation.\n",
    "    \n",
    "    return col.apply(lambda x: (x - col.mean())/col.std())"
   ]
  },
  {
   "cell_type": "markdown",
   "metadata": {},
   "source": [
    "Now create the standardized columns `CGPA_std`, `GRE_std`, and `LOR_std` and add them to the `admissions` dataframe."
   ]
  },
  {
   "cell_type": "code",
   "execution_count": 12,
   "metadata": {},
   "outputs": [],
   "source": [
    "# create new columns with content as the output of the function\n",
    "\n",
    "admissions['CGPA_std'] = standardize(admissions.CGPA)\n",
    "admissions['GRE_std'] = standardize(admissions['GRE Score'])\n",
    "admissions['LOR_std'] = standardize(admissions.LOR)"
   ]
  },
  {
   "cell_type": "code",
   "execution_count": 13,
   "metadata": {},
   "outputs": [
    {
     "output_type": "execute_result",
     "data": {
      "text/plain": [
       "   GRE Score  CGPA  TOEFL Score  University Rating  SOP  LOR  Research  \\\n",
       "0        337  9.65          118                  4  4.5  4.5         1   \n",
       "1        316  8.00          104                  3  3.0  3.5         1   \n",
       "2        322  8.67          110                  3  3.5  2.5         1   \n",
       "3        314  8.21          103                  2  2.0  3.0         0   \n",
       "4        330  9.34          115                  5  4.5  3.0         1   \n",
       "\n",
       "   Chance of Admit  CGPA_std   GRE_std   LOR_std  \n",
       "0             0.92  1.747900  1.753381  1.191647  \n",
       "1             0.72 -0.991211 -0.063367  0.076740  \n",
       "2             0.80  0.121034  0.455704 -1.038166  \n",
       "3             0.65 -0.642597 -0.236391 -0.480713  \n",
       "4             0.90  1.233279  1.147798 -0.480713  "
      ],
      "text/html": "<div>\n<style scoped>\n    .dataframe tbody tr th:only-of-type {\n        vertical-align: middle;\n    }\n\n    .dataframe tbody tr th {\n        vertical-align: top;\n    }\n\n    .dataframe thead th {\n        text-align: right;\n    }\n</style>\n<table border=\"1\" class=\"dataframe\">\n  <thead>\n    <tr style=\"text-align: right;\">\n      <th></th>\n      <th>GRE Score</th>\n      <th>CGPA</th>\n      <th>TOEFL Score</th>\n      <th>University Rating</th>\n      <th>SOP</th>\n      <th>LOR</th>\n      <th>Research</th>\n      <th>Chance of Admit</th>\n      <th>CGPA_std</th>\n      <th>GRE_std</th>\n      <th>LOR_std</th>\n    </tr>\n  </thead>\n  <tbody>\n    <tr>\n      <th>0</th>\n      <td>337</td>\n      <td>9.65</td>\n      <td>118</td>\n      <td>4</td>\n      <td>4.5</td>\n      <td>4.5</td>\n      <td>1</td>\n      <td>0.92</td>\n      <td>1.747900</td>\n      <td>1.753381</td>\n      <td>1.191647</td>\n    </tr>\n    <tr>\n      <th>1</th>\n      <td>316</td>\n      <td>8.00</td>\n      <td>104</td>\n      <td>3</td>\n      <td>3.0</td>\n      <td>3.5</td>\n      <td>1</td>\n      <td>0.72</td>\n      <td>-0.991211</td>\n      <td>-0.063367</td>\n      <td>0.076740</td>\n    </tr>\n    <tr>\n      <th>2</th>\n      <td>322</td>\n      <td>8.67</td>\n      <td>110</td>\n      <td>3</td>\n      <td>3.5</td>\n      <td>2.5</td>\n      <td>1</td>\n      <td>0.80</td>\n      <td>0.121034</td>\n      <td>0.455704</td>\n      <td>-1.038166</td>\n    </tr>\n    <tr>\n      <th>3</th>\n      <td>314</td>\n      <td>8.21</td>\n      <td>103</td>\n      <td>2</td>\n      <td>2.0</td>\n      <td>3.0</td>\n      <td>0</td>\n      <td>0.65</td>\n      <td>-0.642597</td>\n      <td>-0.236391</td>\n      <td>-0.480713</td>\n    </tr>\n    <tr>\n      <th>4</th>\n      <td>330</td>\n      <td>9.34</td>\n      <td>115</td>\n      <td>5</td>\n      <td>4.5</td>\n      <td>3.0</td>\n      <td>1</td>\n      <td>0.90</td>\n      <td>1.233279</td>\n      <td>1.147798</td>\n      <td>-0.480713</td>\n    </tr>\n  </tbody>\n</table>\n</div>"
     },
     "metadata": {},
     "execution_count": 13
    }
   ],
   "source": [
    "admissions.head()"
   ]
  },
  {
   "cell_type": "markdown",
   "metadata": {},
   "source": [
    "We will generate the decision choice at random using the code below. Please run the cell."
   ]
  },
  {
   "cell_type": "code",
   "execution_count": 14,
   "metadata": {},
   "outputs": [],
   "source": [
    "# Run this code:\n",
    "\n",
    "from random import choices\n",
    "std_columns = ['CGPA_std', 'GRE_std', 'LOR_std']\n",
    "\n",
    "decision_choice = choices(std_columns, k=admissions.shape[0])"
   ]
  },
  {
   "cell_type": "markdown",
   "metadata": {},
   "source": [
    "Now create the deciding column using the `lookup` function. The lookup column is `decision_choice` found above. Call the column resulting from the lookup function `deciding_column` and add it to the `admissions` dataframe."
   ]
  },
  {
   "cell_type": "code",
   "execution_count": 15,
   "metadata": {},
   "outputs": [
    {
     "output_type": "stream",
     "name": "stderr",
     "text": [
      "<ipython-input-15-69e1d27ec703>:3: FutureWarning: The 'lookup' method is deprecated and will beremoved in a future version.You can use DataFrame.melt and DataFrame.locas a substitute.\n  admissions['deciding_column'] = admissions.lookup(admissions.index, decision_choice)\n"
     ]
    },
    {
     "output_type": "execute_result",
     "data": {
      "text/plain": [
       "   GRE Score  CGPA  TOEFL Score  University Rating  SOP  LOR  Research  \\\n",
       "0        337  9.65          118                  4  4.5  4.5         1   \n",
       "1        316  8.00          104                  3  3.0  3.5         1   \n",
       "2        322  8.67          110                  3  3.5  2.5         1   \n",
       "3        314  8.21          103                  2  2.0  3.0         0   \n",
       "4        330  9.34          115                  5  4.5  3.0         1   \n",
       "\n",
       "   Chance of Admit  CGPA_std   GRE_std   LOR_std  deciding_column  \n",
       "0             0.92  1.747900  1.753381  1.191647         1.191647  \n",
       "1             0.72 -0.991211 -0.063367  0.076740        -0.991211  \n",
       "2             0.80  0.121034  0.455704 -1.038166         0.121034  \n",
       "3             0.65 -0.642597 -0.236391 -0.480713        -0.236391  \n",
       "4             0.90  1.233279  1.147798 -0.480713         1.147798  "
      ],
      "text/html": "<div>\n<style scoped>\n    .dataframe tbody tr th:only-of-type {\n        vertical-align: middle;\n    }\n\n    .dataframe tbody tr th {\n        vertical-align: top;\n    }\n\n    .dataframe thead th {\n        text-align: right;\n    }\n</style>\n<table border=\"1\" class=\"dataframe\">\n  <thead>\n    <tr style=\"text-align: right;\">\n      <th></th>\n      <th>GRE Score</th>\n      <th>CGPA</th>\n      <th>TOEFL Score</th>\n      <th>University Rating</th>\n      <th>SOP</th>\n      <th>LOR</th>\n      <th>Research</th>\n      <th>Chance of Admit</th>\n      <th>CGPA_std</th>\n      <th>GRE_std</th>\n      <th>LOR_std</th>\n      <th>deciding_column</th>\n    </tr>\n  </thead>\n  <tbody>\n    <tr>\n      <th>0</th>\n      <td>337</td>\n      <td>9.65</td>\n      <td>118</td>\n      <td>4</td>\n      <td>4.5</td>\n      <td>4.5</td>\n      <td>1</td>\n      <td>0.92</td>\n      <td>1.747900</td>\n      <td>1.753381</td>\n      <td>1.191647</td>\n      <td>1.191647</td>\n    </tr>\n    <tr>\n      <th>1</th>\n      <td>316</td>\n      <td>8.00</td>\n      <td>104</td>\n      <td>3</td>\n      <td>3.0</td>\n      <td>3.5</td>\n      <td>1</td>\n      <td>0.72</td>\n      <td>-0.991211</td>\n      <td>-0.063367</td>\n      <td>0.076740</td>\n      <td>-0.991211</td>\n    </tr>\n    <tr>\n      <th>2</th>\n      <td>322</td>\n      <td>8.67</td>\n      <td>110</td>\n      <td>3</td>\n      <td>3.5</td>\n      <td>2.5</td>\n      <td>1</td>\n      <td>0.80</td>\n      <td>0.121034</td>\n      <td>0.455704</td>\n      <td>-1.038166</td>\n      <td>0.121034</td>\n    </tr>\n    <tr>\n      <th>3</th>\n      <td>314</td>\n      <td>8.21</td>\n      <td>103</td>\n      <td>2</td>\n      <td>2.0</td>\n      <td>3.0</td>\n      <td>0</td>\n      <td>0.65</td>\n      <td>-0.642597</td>\n      <td>-0.236391</td>\n      <td>-0.480713</td>\n      <td>-0.236391</td>\n    </tr>\n    <tr>\n      <th>4</th>\n      <td>330</td>\n      <td>9.34</td>\n      <td>115</td>\n      <td>5</td>\n      <td>4.5</td>\n      <td>3.0</td>\n      <td>1</td>\n      <td>0.90</td>\n      <td>1.233279</td>\n      <td>1.147798</td>\n      <td>-0.480713</td>\n      <td>1.147798</td>\n    </tr>\n  </tbody>\n</table>\n</div>"
     },
     "metadata": {},
     "execution_count": 15
    }
   ],
   "source": [
    "# look up taking index as row label and decision_choice as colun label\n",
    "\n",
    "admissions['deciding_column'] = admissions.lookup(admissions.index, decision_choice)\n",
    "admissions.head()"
   ]
  },
  {
   "cell_type": "markdown",
   "metadata": {},
   "source": [
    "Create a column called `decision` in the `admissions` dataframe. Assign 1 to this column if the value of `deciding_column` is greater than 0.8 and 0 otherwise."
   ]
  },
  {
   "cell_type": "code",
   "execution_count": 16,
   "metadata": {},
   "outputs": [
    {
     "output_type": "execute_result",
     "data": {
      "text/plain": [
       "   GRE Score  CGPA  TOEFL Score  University Rating  SOP  LOR  Research  \\\n",
       "0        337  9.65          118                  4  4.5  4.5         1   \n",
       "1        316  8.00          104                  3  3.0  3.5         1   \n",
       "2        322  8.67          110                  3  3.5  2.5         1   \n",
       "3        314  8.21          103                  2  2.0  3.0         0   \n",
       "4        330  9.34          115                  5  4.5  3.0         1   \n",
       "\n",
       "   Chance of Admit  CGPA_std   GRE_std   LOR_std  deciding_column  decision  \n",
       "0             0.92  1.747900  1.753381  1.191647         1.191647         1  \n",
       "1             0.72 -0.991211 -0.063367  0.076740        -0.991211         0  \n",
       "2             0.80  0.121034  0.455704 -1.038166         0.121034         0  \n",
       "3             0.65 -0.642597 -0.236391 -0.480713        -0.236391         0  \n",
       "4             0.90  1.233279  1.147798 -0.480713         1.147798         1  "
      ],
      "text/html": "<div>\n<style scoped>\n    .dataframe tbody tr th:only-of-type {\n        vertical-align: middle;\n    }\n\n    .dataframe tbody tr th {\n        vertical-align: top;\n    }\n\n    .dataframe thead th {\n        text-align: right;\n    }\n</style>\n<table border=\"1\" class=\"dataframe\">\n  <thead>\n    <tr style=\"text-align: right;\">\n      <th></th>\n      <th>GRE Score</th>\n      <th>CGPA</th>\n      <th>TOEFL Score</th>\n      <th>University Rating</th>\n      <th>SOP</th>\n      <th>LOR</th>\n      <th>Research</th>\n      <th>Chance of Admit</th>\n      <th>CGPA_std</th>\n      <th>GRE_std</th>\n      <th>LOR_std</th>\n      <th>deciding_column</th>\n      <th>decision</th>\n    </tr>\n  </thead>\n  <tbody>\n    <tr>\n      <th>0</th>\n      <td>337</td>\n      <td>9.65</td>\n      <td>118</td>\n      <td>4</td>\n      <td>4.5</td>\n      <td>4.5</td>\n      <td>1</td>\n      <td>0.92</td>\n      <td>1.747900</td>\n      <td>1.753381</td>\n      <td>1.191647</td>\n      <td>1.191647</td>\n      <td>1</td>\n    </tr>\n    <tr>\n      <th>1</th>\n      <td>316</td>\n      <td>8.00</td>\n      <td>104</td>\n      <td>3</td>\n      <td>3.0</td>\n      <td>3.5</td>\n      <td>1</td>\n      <td>0.72</td>\n      <td>-0.991211</td>\n      <td>-0.063367</td>\n      <td>0.076740</td>\n      <td>-0.991211</td>\n      <td>0</td>\n    </tr>\n    <tr>\n      <th>2</th>\n      <td>322</td>\n      <td>8.67</td>\n      <td>110</td>\n      <td>3</td>\n      <td>3.5</td>\n      <td>2.5</td>\n      <td>1</td>\n      <td>0.80</td>\n      <td>0.121034</td>\n      <td>0.455704</td>\n      <td>-1.038166</td>\n      <td>0.121034</td>\n      <td>0</td>\n    </tr>\n    <tr>\n      <th>3</th>\n      <td>314</td>\n      <td>8.21</td>\n      <td>103</td>\n      <td>2</td>\n      <td>2.0</td>\n      <td>3.0</td>\n      <td>0</td>\n      <td>0.65</td>\n      <td>-0.642597</td>\n      <td>-0.236391</td>\n      <td>-0.480713</td>\n      <td>-0.236391</td>\n      <td>0</td>\n    </tr>\n    <tr>\n      <th>4</th>\n      <td>330</td>\n      <td>9.34</td>\n      <td>115</td>\n      <td>5</td>\n      <td>4.5</td>\n      <td>3.0</td>\n      <td>1</td>\n      <td>0.90</td>\n      <td>1.233279</td>\n      <td>1.147798</td>\n      <td>-0.480713</td>\n      <td>1.147798</td>\n      <td>1</td>\n    </tr>\n  </tbody>\n</table>\n</div>"
     },
     "metadata": {},
     "execution_count": 16
    }
   ],
   "source": [
    "# Use apply function\n",
    "\n",
    "admissions['decision'] = admissions['deciding_column'].apply(lambda x: 1 if x > 0.8 else 0)\n",
    "admissions.head()"
   ]
  },
  {
   "cell_type": "markdown",
   "metadata": {},
   "source": [
    "How many applicants will be accepted to the program using the decision column? Compute the result below."
   ]
  },
  {
   "cell_type": "code",
   "execution_count": 17,
   "metadata": {},
   "outputs": [
    {
     "output_type": "execute_result",
     "data": {
      "text/plain": [
       "84"
      ]
     },
     "metadata": {},
     "execution_count": 17
    }
   ],
   "source": [
    "# len to find number of rows\n",
    "# indicate DataFrame admissions with conditions inside squared brackets\n",
    "\n",
    "len(admissions[admissions['decision'] == 1])"
   ]
  },
  {
   "cell_type": "markdown",
   "metadata": {},
   "source": [
    "# Challenge 3 - Method Chaining\n",
    "\n",
    "To increase our coding efficiency, let's make a number of changes to our dataframe in one line of code.\n",
    "\n",
    "In the cell below, remove all non character symbols from the column names, replace all spaces in column names to underscores, and change all upper case characters to lower case. Assign these new column values to `admissions.columns`."
   ]
  },
  {
   "cell_type": "code",
   "execution_count": 18,
   "metadata": {},
   "outputs": [
    {
     "output_type": "execute_result",
     "data": {
      "text/plain": [
       "   gre_score  cgpa  toefl_score  university_rating  sop  lor  research  \\\n",
       "0        337  9.65          118                  4  4.5  4.5         1   \n",
       "1        316  8.00          104                  3  3.0  3.5         1   \n",
       "2        322  8.67          110                  3  3.5  2.5         1   \n",
       "3        314  8.21          103                  2  2.0  3.0         0   \n",
       "4        330  9.34          115                  5  4.5  3.0         1   \n",
       "\n",
       "   chance_of_admit  cgpa_std   gre_std   lor_std  deciding_column  decision  \n",
       "0             0.92  1.747900  1.753381  1.191647         1.191647         1  \n",
       "1             0.72 -0.991211 -0.063367  0.076740        -0.991211         0  \n",
       "2             0.80  0.121034  0.455704 -1.038166         0.121034         0  \n",
       "3             0.65 -0.642597 -0.236391 -0.480713        -0.236391         0  \n",
       "4             0.90  1.233279  1.147798 -0.480713         1.147798         1  "
      ],
      "text/html": "<div>\n<style scoped>\n    .dataframe tbody tr th:only-of-type {\n        vertical-align: middle;\n    }\n\n    .dataframe tbody tr th {\n        vertical-align: top;\n    }\n\n    .dataframe thead th {\n        text-align: right;\n    }\n</style>\n<table border=\"1\" class=\"dataframe\">\n  <thead>\n    <tr style=\"text-align: right;\">\n      <th></th>\n      <th>gre_score</th>\n      <th>cgpa</th>\n      <th>toefl_score</th>\n      <th>university_rating</th>\n      <th>sop</th>\n      <th>lor</th>\n      <th>research</th>\n      <th>chance_of_admit</th>\n      <th>cgpa_std</th>\n      <th>gre_std</th>\n      <th>lor_std</th>\n      <th>deciding_column</th>\n      <th>decision</th>\n    </tr>\n  </thead>\n  <tbody>\n    <tr>\n      <th>0</th>\n      <td>337</td>\n      <td>9.65</td>\n      <td>118</td>\n      <td>4</td>\n      <td>4.5</td>\n      <td>4.5</td>\n      <td>1</td>\n      <td>0.92</td>\n      <td>1.747900</td>\n      <td>1.753381</td>\n      <td>1.191647</td>\n      <td>1.191647</td>\n      <td>1</td>\n    </tr>\n    <tr>\n      <th>1</th>\n      <td>316</td>\n      <td>8.00</td>\n      <td>104</td>\n      <td>3</td>\n      <td>3.0</td>\n      <td>3.5</td>\n      <td>1</td>\n      <td>0.72</td>\n      <td>-0.991211</td>\n      <td>-0.063367</td>\n      <td>0.076740</td>\n      <td>-0.991211</td>\n      <td>0</td>\n    </tr>\n    <tr>\n      <th>2</th>\n      <td>322</td>\n      <td>8.67</td>\n      <td>110</td>\n      <td>3</td>\n      <td>3.5</td>\n      <td>2.5</td>\n      <td>1</td>\n      <td>0.80</td>\n      <td>0.121034</td>\n      <td>0.455704</td>\n      <td>-1.038166</td>\n      <td>0.121034</td>\n      <td>0</td>\n    </tr>\n    <tr>\n      <th>3</th>\n      <td>314</td>\n      <td>8.21</td>\n      <td>103</td>\n      <td>2</td>\n      <td>2.0</td>\n      <td>3.0</td>\n      <td>0</td>\n      <td>0.65</td>\n      <td>-0.642597</td>\n      <td>-0.236391</td>\n      <td>-0.480713</td>\n      <td>-0.236391</td>\n      <td>0</td>\n    </tr>\n    <tr>\n      <th>4</th>\n      <td>330</td>\n      <td>9.34</td>\n      <td>115</td>\n      <td>5</td>\n      <td>4.5</td>\n      <td>3.0</td>\n      <td>1</td>\n      <td>0.90</td>\n      <td>1.233279</td>\n      <td>1.147798</td>\n      <td>-0.480713</td>\n      <td>1.147798</td>\n      <td>1</td>\n    </tr>\n  </tbody>\n</table>\n</div>"
     },
     "metadata": {},
     "execution_count": 18
    }
   ],
   "source": [
    "# list comprehension with replace and lower functions\n",
    "\n",
    "admissions.columns = [i.replace(' ', '_').lower() for i in admissions.columns]\n",
    "admissions.head()"
   ]
  },
  {
   "cell_type": "markdown",
   "metadata": {},
   "source": [
    "In the cell below, give all student with a university rating of 4 or higher a 10 point boost on their GRE score and split the column into 4 bins using the `cut` function. Assign this new score to the variable `adjusted_gre`."
   ]
  },
  {
   "cell_type": "code",
   "execution_count": 19,
   "metadata": {},
   "outputs": [
    {
     "output_type": "execute_result",
     "data": {
      "text/plain": [
       "   gre_score  cgpa  toefl_score  university_rating  sop  lor  research  \\\n",
       "0        347  9.65          118                  4  4.5  4.5         1   \n",
       "1        316  8.00          104                  3  3.0  3.5         1   \n",
       "2        322  8.67          110                  3  3.5  2.5         1   \n",
       "3        314  8.21          103                  2  2.0  3.0         0   \n",
       "4        340  9.34          115                  5  4.5  3.0         1   \n",
       "\n",
       "   chance_of_admit  cgpa_std   gre_std   lor_std  deciding_column  decision  \\\n",
       "0             0.92  1.747900  1.753381  1.191647         1.191647         1   \n",
       "1             0.72 -0.991211 -0.063367  0.076740        -0.991211         0   \n",
       "2             0.80  0.121034  0.455704 -1.038166         0.121034         0   \n",
       "3             0.65 -0.642597 -0.236391 -0.480713        -0.236391         0   \n",
       "4             0.90  1.233279  1.147798 -0.480713         1.147798         1   \n",
       "\n",
       "   adjusted_gre  \n",
       "0     top_level  \n",
       "1  medium_level  \n",
       "2    high_level  \n",
       "3  medium_level  \n",
       "4     top_level  "
      ],
      "text/html": "<div>\n<style scoped>\n    .dataframe tbody tr th:only-of-type {\n        vertical-align: middle;\n    }\n\n    .dataframe tbody tr th {\n        vertical-align: top;\n    }\n\n    .dataframe thead th {\n        text-align: right;\n    }\n</style>\n<table border=\"1\" class=\"dataframe\">\n  <thead>\n    <tr style=\"text-align: right;\">\n      <th></th>\n      <th>gre_score</th>\n      <th>cgpa</th>\n      <th>toefl_score</th>\n      <th>university_rating</th>\n      <th>sop</th>\n      <th>lor</th>\n      <th>research</th>\n      <th>chance_of_admit</th>\n      <th>cgpa_std</th>\n      <th>gre_std</th>\n      <th>lor_std</th>\n      <th>deciding_column</th>\n      <th>decision</th>\n      <th>adjusted_gre</th>\n    </tr>\n  </thead>\n  <tbody>\n    <tr>\n      <th>0</th>\n      <td>347</td>\n      <td>9.65</td>\n      <td>118</td>\n      <td>4</td>\n      <td>4.5</td>\n      <td>4.5</td>\n      <td>1</td>\n      <td>0.92</td>\n      <td>1.747900</td>\n      <td>1.753381</td>\n      <td>1.191647</td>\n      <td>1.191647</td>\n      <td>1</td>\n      <td>top_level</td>\n    </tr>\n    <tr>\n      <th>1</th>\n      <td>316</td>\n      <td>8.00</td>\n      <td>104</td>\n      <td>3</td>\n      <td>3.0</td>\n      <td>3.5</td>\n      <td>1</td>\n      <td>0.72</td>\n      <td>-0.991211</td>\n      <td>-0.063367</td>\n      <td>0.076740</td>\n      <td>-0.991211</td>\n      <td>0</td>\n      <td>medium_level</td>\n    </tr>\n    <tr>\n      <th>2</th>\n      <td>322</td>\n      <td>8.67</td>\n      <td>110</td>\n      <td>3</td>\n      <td>3.5</td>\n      <td>2.5</td>\n      <td>1</td>\n      <td>0.80</td>\n      <td>0.121034</td>\n      <td>0.455704</td>\n      <td>-1.038166</td>\n      <td>0.121034</td>\n      <td>0</td>\n      <td>high_level</td>\n    </tr>\n    <tr>\n      <th>3</th>\n      <td>314</td>\n      <td>8.21</td>\n      <td>103</td>\n      <td>2</td>\n      <td>2.0</td>\n      <td>3.0</td>\n      <td>0</td>\n      <td>0.65</td>\n      <td>-0.642597</td>\n      <td>-0.236391</td>\n      <td>-0.480713</td>\n      <td>-0.236391</td>\n      <td>0</td>\n      <td>medium_level</td>\n    </tr>\n    <tr>\n      <th>4</th>\n      <td>340</td>\n      <td>9.34</td>\n      <td>115</td>\n      <td>5</td>\n      <td>4.5</td>\n      <td>3.0</td>\n      <td>1</td>\n      <td>0.90</td>\n      <td>1.233279</td>\n      <td>1.147798</td>\n      <td>-0.480713</td>\n      <td>1.147798</td>\n      <td>1</td>\n      <td>top_level</td>\n    </tr>\n  </tbody>\n</table>\n</div>"
     },
     "metadata": {},
     "execution_count": 19
    }
   ],
   "source": [
    "# Use of DataFrame.loc to change real DataFrame and not a slice\n",
    "# Sum 10\n",
    "\n",
    "admissions.loc[admissions[admissions['university_rating'] >= 4].index, 'gre_score'] = admissions[admissions['university_rating'] >= 4]['gre_score'] + 10\n",
    "admissions['adjusted_gre'] = pd.cut(admissions['gre_score'], bins=4, include_lowest = True, labels = ['low_level', 'medium_level', 'high_level', 'top_level'])\n",
    "admissions.head()"
   ]
  },
  {
   "cell_type": "code",
   "execution_count": null,
   "metadata": {},
   "outputs": [],
   "source": []
  }
 ],
 "metadata": {
  "kernelspec": {
   "name": "python383jvsc74a57bd05f23c331dcc0e959a18d97d72b32723b8e8fefc4a029dc171226f15b89161c30",
   "display_name": "Python 3.8.3 32-bit (conda)"
  },
  "language_info": {
   "codemirror_mode": {
    "name": "ipython",
    "version": 3
   },
   "file_extension": ".py",
   "mimetype": "text/x-python",
   "name": "python",
   "nbconvert_exporter": "python",
   "pygments_lexer": "ipython3",
   "version": "3.8.3-final"
  },
  "latex_envs": {
   "LaTeX_envs_menu_present": true,
   "autoclose": false,
   "autocomplete": true,
   "bibliofile": "biblio.bib",
   "cite_by": "apalike",
   "current_citInitial": 1,
   "eqLabelWithNumbers": true,
   "eqNumInitial": 1,
   "hotkeys": {
    "equation": "Ctrl-E",
    "itemize": "Ctrl-I"
   },
   "labels_anchors": false,
   "latex_user_defs": false,
   "report_style_numbering": false,
   "user_envs_cfg": false
  },
  "toc": {
   "base_numbering": 1,
   "nav_menu": {},
   "number_sections": true,
   "sideBar": true,
   "skip_h1_title": false,
   "title_cell": "Table of Contents",
   "title_sidebar": "Contents",
   "toc_cell": true,
   "toc_position": {},
   "toc_section_display": true,
   "toc_window_display": false
  },
  "varInspector": {
   "cols": {
    "lenName": 16,
    "lenType": 16,
    "lenVar": 40
   },
   "kernels_config": {
    "python": {
     "delete_cmd_postfix": "",
     "delete_cmd_prefix": "del ",
     "library": "var_list.py",
     "varRefreshCmd": "print(var_dic_list())"
    },
    "r": {
     "delete_cmd_postfix": ") ",
     "delete_cmd_prefix": "rm(",
     "library": "var_list.r",
     "varRefreshCmd": "cat(var_dic_list()) "
    }
   },
   "types_to_exclude": [
    "module",
    "function",
    "builtin_function_or_method",
    "instance",
    "_Feature"
   ],
   "window_display": false
  }
 },
 "nbformat": 4,
 "nbformat_minor": 2
}